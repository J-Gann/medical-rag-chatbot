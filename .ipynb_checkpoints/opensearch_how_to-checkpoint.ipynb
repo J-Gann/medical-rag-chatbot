{
 "cells": [
  {
   "cell_type": "markdown",
   "id": "2b78a4b3",
   "metadata": {},
   "source": [
    "# Docker "
   ]
  },
  {
   "cell_type": "markdown",
   "id": "4dc1f425",
   "metadata": {},
   "source": [
    "## Run in terminal "
   ]
  },
  {
   "cell_type": "code",
   "execution_count": null,
   "id": "eb73d8d8",
   "metadata": {},
   "outputs": [],
   "source": [
    "!sudo docker pull opensearchproject/opensearch:1.0.1"
   ]
  },
  {
   "cell_type": "code",
   "execution_count": 29,
   "id": "13a630f7",
   "metadata": {},
   "outputs": [
    {
     "name": "stdout",
     "output_type": "stream",
     "text": [
      "\r\n"
     ]
    }
   ],
   "source": [
    "!sudo docker run -p 9200:9200 -p 9600:9600 -e \"discovery.type=single-node\" opensearchproject/opensearch:1.0.1"
   ]
  },
  {
   "cell_type": "markdown",
   "id": "6ac703cd",
   "metadata": {},
   "source": [
    "# REST API"
   ]
  },
  {
   "cell_type": "markdown",
   "id": "f88478c9",
   "metadata": {},
   "source": [
    "## Check connection"
   ]
  },
  {
   "cell_type": "code",
   "execution_count": 5,
   "id": "5b048a1a",
   "metadata": {},
   "outputs": [],
   "source": [
    "import json\n",
    "import os"
   ]
  },
  {
   "cell_type": "code",
   "execution_count": 1,
   "id": "88d819d2",
   "metadata": {},
   "outputs": [
    {
     "name": "stdout",
     "output_type": "stream",
     "text": [
      "{\"cluster_name\":\"docker-cluster\",\"status\":\"green\",\"timed_out\":false,\"number_of_nodes\":1,\"number_of_data_nodes\":1,\"discovered_master\":true,\"discovered_cluster_manager\":true,\"active_primary_shards\":1,\"active_shards\":1,\"relocating_shards\":0,\"initializing_shards\":0,\"unassigned_shards\":0,\"delayed_unassigned_shards\":0,\"number_of_pending_tasks\":0,\"number_of_in_flight_fetch\":0,\"task_max_waiting_in_queue_millis\":0,\"active_shards_percent_as_number\":100.0}"
     ]
    }
   ],
   "source": [
    "!curl -XGET \"https://localhost:9200/_cluster/health\" -u admin:admin --insecure"
   ]
  },
  {
   "cell_type": "markdown",
   "id": "3862b498",
   "metadata": {},
   "source": [
    "## Create Index (use https!)"
   ]
  },
  {
   "cell_type": "code",
   "execution_count": 22,
   "id": "f91268e4",
   "metadata": {},
   "outputs": [
    {
     "name": "stdout",
     "output_type": "stream",
     "text": [
      "{\"acknowledged\":true,\"shards_acknowledged\":true,\"index\":\"pub_med2\"}"
     ]
    }
   ],
   "source": [
    "!curl -XPUT \"https://localhost:9200/pub_med\" -H 'Content-Type: application/json' -u admin:admin --insecure"
   ]
  },
  {
   "cell_type": "code",
   "execution_count": 6,
   "id": "2e2ada6d",
   "metadata": {},
   "outputs": [],
   "source": [
    "with open('/home/chris/University/NLP_project/pubmed_data.json', 'r') as f:\n",
    "    records = json.loads(f.read())"
   ]
  },
  {
   "cell_type": "code",
   "execution_count": null,
   "id": "de11206c",
   "metadata": {},
   "outputs": [],
   "source": [
    "for record in records:\n",
    "    print(record)"
   ]
  },
  {
   "cell_type": "code",
   "execution_count": 7,
   "id": "aff172ff",
   "metadata": {},
   "outputs": [
    {
     "name": "stdout",
     "output_type": "stream",
     "text": [
      "{'MedlineCitation': {'GeneralNote': [], 'OtherID': [], 'CitationSubset': ['IM'], 'KeywordList': [['semiconducting chalcogenide glass', 'thermal sensors', 'thermoelectric fibers', 'wearable electronics']], 'SpaceFlightMission': [], 'OtherAbstract': [], 'PMID': '38085539', 'DateRevised': {'Year': '2023', 'Month': '12', 'Day': '12'}, 'Article': {'ELocationID': ['10.1021/acsami.3c13239'], 'ArticleDate': [{'Year': '2023', 'Month': '12', 'Day': '12'}], 'Language': ['eng'], 'Journal': {'ISSN': '1944-8252', 'JournalIssue': {'PubDate': {'Year': '2023', 'Month': 'Dec', 'Day': '12'}}, 'Title': 'ACS applied materials & interfaces', 'ISOAbbreviation': 'ACS Appl Mater Interfaces'}, 'ArticleTitle': 'High Seebeck Coefficient Inorganic Ge<sub>15</sub>Ga<sub>10</sub>Te<sub>75</sub> Core/Polymer Cladding Fibers for Respiration and Body Temperature Monitoring.', 'Abstract': {'AbstractText': ['Wearable thermal sensors based on thermoelectric (TE) materials with high sensitivity and temperature resolution are extensively used in medical diagnosis, human-machine interfaces, and advanced artificial intelligence. However, their development is greatly limited by the lack of materials with both a high Seebeck coefficient and superior anticrystallization ability. Here, a new inorganic amorphous TE material, Ge<sub>15</sub>Ga<sub>10</sub>Te<sub>75</sub>, with a high Seebeck coefficient of 1109 μV/K is reported. Owing to the large difference between the glass-transition temperature and initial crystallization temperature, Ge<sub>15</sub>Ga<sub>10</sub>Te<sub>75</sub> strongly inhibits crystallization during fiber fabrication by thermally codrawing a precast rod comprising a Ge<sub>15</sub>Ga<sub>10</sub>Te<sub>75</sub> core and PP polymer cladding. The temperature difference can be effectively transduced into electrical signals to achieve TE fiber thermal sensing with an accurate temperature resolution of 0.03 K and a fast response time of 4 s. It is important to note that after the 1.5 and 5.5 K temperatures changed repeatedly, the TE properties of the fiber demonstrated high stability. Based on the Seebeck effect and superior flexibility of the fibers, they can be integrated into a mask and wearable fabric for human respiration and body temperature monitoring. The superior thermal sensing performance of the TE fibers together with their natural flexibility and scalable fabrication endow them with promising applications in health-monitoring and intelligent medical systems.']}, 'AuthorList': [{'AffiliationInfo': [{'Identifier': [], 'Affiliation': 'Laboratory of Infrared Materials and Devices, The Research Institute of Advanced Technologies, Ningbo University, Ningbo 315211, P. R. China.'}, {'Identifier': [], 'Affiliation': 'Key Laboratory of Photoelectric Detection Materials and Devices of Zhejiang Province, Ningbo 315211, P. R. China.'}, {'Identifier': [], 'Affiliation': 'Engineering Research Center for Advanced Infrared Photoelectric Materials and Devices of Zhejiang Province, Ningbo 315211, P. R. China.'}], 'Identifier': ['0009-0004-7239-1183'], 'LastName': 'Gu', 'ForeName': 'Hao', 'Initials': 'H'}, {'AffiliationInfo': [{'Identifier': [], 'Affiliation': 'Laboratory of Infrared Materials and Devices, The Research Institute of Advanced Technologies, Ningbo University, Ningbo 315211, P. R. China.'}, {'Identifier': [], 'Affiliation': 'Key Laboratory of Photoelectric Detection Materials and Devices of Zhejiang Province, Ningbo 315211, P. R. China.'}, {'Identifier': [], 'Affiliation': 'Engineering Research Center for Advanced Infrared Photoelectric Materials and Devices of Zhejiang Province, Ningbo 315211, P. R. China.'}], 'Identifier': [], 'LastName': 'Kang', 'ForeName': 'Shiliang', 'Initials': 'S'}, {'AffiliationInfo': [{'Identifier': [], 'Affiliation': 'Laboratory of Infrared Materials and Devices, The Research Institute of Advanced Technologies, Ningbo University, Ningbo 315211, P. R. China.'}, {'Identifier': [], 'Affiliation': 'Key Laboratory of Photoelectric Detection Materials and Devices of Zhejiang Province, Ningbo 315211, P. R. China.'}, {'Identifier': [], 'Affiliation': 'Engineering Research Center for Advanced Infrared Photoelectric Materials and Devices of Zhejiang Province, Ningbo 315211, P. R. China.'}], 'Identifier': [], 'LastName': 'Fu', 'ForeName': 'Yanqing', 'Initials': 'Y'}, {'AffiliationInfo': [{'Identifier': [], 'Affiliation': 'Laboratory of Infrared Materials and Devices, The Research Institute of Advanced Technologies, Ningbo University, Ningbo 315211, P. R. China.'}, {'Identifier': [], 'Affiliation': 'Key Laboratory of Photoelectric Detection Materials and Devices of Zhejiang Province, Ningbo 315211, P. R. China.'}, {'Identifier': [], 'Affiliation': 'Engineering Research Center for Advanced Infrared Photoelectric Materials and Devices of Zhejiang Province, Ningbo 315211, P. R. China.'}], 'Identifier': ['0000-0002-9498-9731'], 'LastName': 'Tan', 'ForeName': 'Linling', 'Initials': 'L'}, {'AffiliationInfo': [{'Identifier': [], 'Affiliation': 'Laboratory of Infrared Materials and Devices, The Research Institute of Advanced Technologies, Ningbo University, Ningbo 315211, P. R. China.'}, {'Identifier': [], 'Affiliation': 'Key Laboratory of Photoelectric Detection Materials and Devices of Zhejiang Province, Ningbo 315211, P. R. China.'}, {'Identifier': [], 'Affiliation': 'Engineering Research Center for Advanced Infrared Photoelectric Materials and Devices of Zhejiang Province, Ningbo 315211, P. R. China.'}], 'Identifier': ['0000-0001-7105-2121'], 'LastName': 'Gao', 'ForeName': 'Chengwei', 'Initials': 'C'}, {'AffiliationInfo': [{'Identifier': [], 'Affiliation': 'Shenzhen Key Laboratory of Advanced Thin Films and Applications, Key Laboratory of Optoelectronic Devices and Systems of Ministry of Education and Guangdong Province, College of Physics and Optoelectronic Engineering, Shenzhen University, Shenzhen 518060, P. R. China.'}], 'Identifier': ['0000-0002-2475-9826'], 'LastName': 'Zheng', 'ForeName': 'Zhuanghao', 'Initials': 'Z'}, {'AffiliationInfo': [{'Identifier': [], 'Affiliation': 'Laboratory of Infrared Materials and Devices, The Research Institute of Advanced Technologies, Ningbo University, Ningbo 315211, P. R. China.'}, {'Identifier': [], 'Affiliation': 'Key Laboratory of Photoelectric Detection Materials and Devices of Zhejiang Province, Ningbo 315211, P. R. China.'}, {'Identifier': [], 'Affiliation': 'Engineering Research Center for Advanced Infrared Photoelectric Materials and Devices of Zhejiang Province, Ningbo 315211, P. R. China.'}], 'Identifier': [], 'LastName': 'Lin', 'ForeName': 'Changgui', 'Initials': 'C'}], 'PublicationTypeList': ['Journal Article']}, 'MedlineJournalInfo': {'Country': 'United States', 'MedlineTA': 'ACS Appl Mater Interfaces', 'NlmUniqueID': '101504991', 'ISSNLinking': '1944-8244'}}, 'PubmedData': {'ReferenceList': [], 'History': [{'Year': '2023', 'Month': '12', 'Day': '12', 'Hour': '12', 'Minute': '43'}, {'Year': '2023', 'Month': '12', 'Day': '12', 'Hour': '12', 'Minute': '43'}, {'Year': '2023', 'Month': '12', 'Day': '12', 'Hour': '11', 'Minute': '23'}], 'PublicationStatus': 'aheadofprint', 'ArticleIdList': ['38085539', '10.1021/acsami.3c13239']}}\n"
     ]
    }
   ],
   "source": [
    "print(records['PubmedArticle'][0])"
   ]
  },
  {
   "cell_type": "code",
   "execution_count": 8,
   "id": "98bcaf0b",
   "metadata": {},
   "outputs": [],
   "source": [
    "records = records[\"PubmedArticle\"]\n",
    "preprocessed_records = []\n",
    "for idx, article in enumerate(records):\n",
    "      if (not \"Abstract\" in article[\"MedlineCitation\"][\"Article\"].keys()): continue\n",
    "      article = {\n",
    "          \"id\": article[\"MedlineCitation\"][\"PMID\"],\n",
    "          \"title\": article[\"MedlineCitation\"][\"Article\"][\"ArticleTitle\"],\n",
    "          \"text\": \" \".join(article[\"MedlineCitation\"][\"Article\"][\"Abstract\"][\"AbstractText\"]) # some abstracts are split in an array\n",
    "      }\n",
    "      preprocessed_records.append(article)\n",
    "#with open('/content/drive/MyDrive/Colab Data/pubmed_data_preprocessed.json', 'w') as f:\n",
    "#    f.write(json.dumps(preprocessed_records))"
   ]
  },
  {
   "cell_type": "code",
   "execution_count": 9,
   "id": "526e04d7",
   "metadata": {},
   "outputs": [
    {
     "name": "stdout",
     "output_type": "stream",
     "text": [
      "{'id': '38085539', 'title': 'High Seebeck Coefficient Inorganic Ge<sub>15</sub>Ga<sub>10</sub>Te<sub>75</sub> Core/Polymer Cladding Fibers for Respiration and Body Temperature Monitoring.', 'text': 'Wearable thermal sensors based on thermoelectric (TE) materials with high sensitivity and temperature resolution are extensively used in medical diagnosis, human-machine interfaces, and advanced artificial intelligence. However, their development is greatly limited by the lack of materials with both a high Seebeck coefficient and superior anticrystallization ability. Here, a new inorganic amorphous TE material, Ge<sub>15</sub>Ga<sub>10</sub>Te<sub>75</sub>, with a high Seebeck coefficient of 1109 μV/K is reported. Owing to the large difference between the glass-transition temperature and initial crystallization temperature, Ge<sub>15</sub>Ga<sub>10</sub>Te<sub>75</sub> strongly inhibits crystallization during fiber fabrication by thermally codrawing a precast rod comprising a Ge<sub>15</sub>Ga<sub>10</sub>Te<sub>75</sub> core and PP polymer cladding. The temperature difference can be effectively transduced into electrical signals to achieve TE fiber thermal sensing with an accurate temperature resolution of 0.03 K and a fast response time of 4 s. It is important to note that after the 1.5 and 5.5 K temperatures changed repeatedly, the TE properties of the fiber demonstrated high stability. Based on the Seebeck effect and superior flexibility of the fibers, they can be integrated into a mask and wearable fabric for human respiration and body temperature monitoring. The superior thermal sensing performance of the TE fibers together with their natural flexibility and scalable fabrication endow them with promising applications in health-monitoring and intelligent medical systems.'}\n"
     ]
    }
   ],
   "source": [
    "print(preprocessed_records[0])"
   ]
  },
  {
   "cell_type": "code",
   "execution_count": 49,
   "id": "1837efa1",
   "metadata": {},
   "outputs": [],
   "source": [
    "import json\n",
    "\n",
    "# Serializing json\n",
    "json_object = json.dumps(preprocessed_records[0], indent=4)\n",
    "\n",
    "# Writing to sample.json\n",
    "with open(\"sample.json\", \"w\") as outfile:\n",
    "\toutfile.write(json_object)\n"
   ]
  },
  {
   "cell_type": "markdown",
   "id": "01150acb",
   "metadata": {},
   "source": [
    "## Write Document into index"
   ]
  },
  {
   "cell_type": "code",
   "execution_count": 37,
   "id": "1d7e8b7d",
   "metadata": {},
   "outputs": [
    {
     "name": "stdout",
     "output_type": "stream",
     "text": [
      "{\"_index\":\"pub_med\",\"_id\":\"ZRwNBI0BZKko4otCxqts\",\"_version\":1,\"result\":\"created\",\"_shards\":{\"total\":2,\"successful\":1,\"failed\":0},\"_seq_no\":1,\"_primary_term\":1}"
     ]
    }
   ],
   "source": [
    "!curl -X POST \"https://localhost:9200/pub_med/_doc\" -u admin:admin --insecure -H 'Content-Type: application/json' -d @sample.json"
   ]
  },
  {
   "cell_type": "code",
   "execution_count": 38,
   "id": "89054683",
   "metadata": {},
   "outputs": [
    {
     "name": "stdout",
     "output_type": "stream",
     "text": [
      "{\"_index\":\"pub_med\",\"_id\":\"10\",\"_version\":1,\"result\":\"created\",\"_shards\":{\"total\":2,\"successful\":1,\"failed\":0},\"_seq_no\":2,\"_primary_term\":1}"
     ]
    }
   ],
   "source": [
    "!curl -X PUT \"https://localhost:9200/pub_med/_doc/10\" -u admin:admin --insecure -H 'Content-Type: application/json' -d @sample.json"
   ]
  },
  {
   "cell_type": "code",
   "execution_count": 50,
   "id": "65b32dea",
   "metadata": {},
   "outputs": [
    {
     "name": "stdout",
     "output_type": "stream",
     "text": [
      "{\"_index\":\"pub_med\",\"_id\":\"10\",\"_version\":2,\"result\":\"updated\",\"_shards\":{\"total\":2,\"successful\":1,\"failed\":0},\"_seq_no\":3,\"_primary_term\":1}{\"_index\":\"pub_med\",\"_id\":\"10\",\"_version\":3,\"result\":\"updated\",\"_shards\":{\"total\":2,\"successful\":1,\"failed\":0},\"_seq_no\":4,\"_primary_term\":1}"
     ]
    }
   ],
   "source": [
    "for i in range(2):\n",
    "    !curl -X PUT \"https://localhost:9200/pub_med/_doc/10\" -u admin:admin --insecure -H 'Content-Type: application/json' -d @sample.json"
   ]
  },
  {
   "cell_type": "markdown",
   "id": "1cd3cae3",
   "metadata": {},
   "source": [
    "## Add multiple records"
   ]
  },
  {
   "cell_type": "code",
   "execution_count": 53,
   "id": "87e1d3cf",
   "metadata": {},
   "outputs": [
    {
     "name": "stdout",
     "output_type": "stream",
     "text": [
      "{\"_index\":\"pub_med\",\"_id\":\"ZhwrBI0BZKko4otC0quQ\",\"_version\":1,\"result\":\"created\",\"_shards\":{\"total\":2,\"successful\":1,\"failed\":0},\"_seq_no\":5,\"_primary_term\":1}{\"_index\":\"pub_med\",\"_id\":\"ZxwrBI0BZKko4otC06sl\",\"_version\":1,\"result\":\"created\",\"_shards\":{\"total\":2,\"successful\":1,\"failed\":0},\"_seq_no\":6,\"_primary_term\":1}{\"_index\":\"pub_med\",\"_id\":\"aBwrBI0BZKko4otC06u5\",\"_version\":1,\"result\":\"created\",\"_shards\":{\"total\":2,\"successful\":1,\"failed\":0},\"_seq_no\":7,\"_primary_term\":1}{\"_index\":\"pub_med\",\"_id\":\"aRwrBI0BZKko4otC1KtH\",\"_version\":1,\"result\":\"created\",\"_shards\":{\"total\":2,\"successful\":1,\"failed\":0},\"_seq_no\":8,\"_primary_term\":1}{\"_index\":\"pub_med\",\"_id\":\"ahwrBI0BZKko4otC1KvP\",\"_version\":1,\"result\":\"created\",\"_shards\":{\"total\":2,\"successful\":1,\"failed\":0},\"_seq_no\":9,\"_primary_term\":1}{\"_index\":\"pub_med\",\"_id\":\"axwrBI0BZKko4otC1atk\",\"_version\":1,\"result\":\"created\",\"_shards\":{\"total\":2,\"successful\":1,\"failed\":0},\"_seq_no\":10,\"_primary_term\":1}{\"_index\":\"pub_med\",\"_id\":\"bBwrBI0BZKko4otC1av5\",\"_version\":1,\"result\":\"created\",\"_shards\":{\"total\":2,\"successful\":1,\"failed\":0},\"_seq_no\":11,\"_primary_term\":1}{\"_index\":\"pub_med\",\"_id\":\"bRwrBI0BZKko4otC1quN\",\"_version\":1,\"result\":\"created\",\"_shards\":{\"total\":2,\"successful\":1,\"failed\":0},\"_seq_no\":12,\"_primary_term\":1}{\"_index\":\"pub_med\",\"_id\":\"bhwrBI0BZKko4otC16se\",\"_version\":1,\"result\":\"created\",\"_shards\":{\"total\":2,\"successful\":1,\"failed\":0},\"_seq_no\":13,\"_primary_term\":1}{\"_index\":\"pub_med\",\"_id\":\"bxwrBI0BZKko4otC16u0\",\"_version\":1,\"result\":\"created\",\"_shards\":{\"total\":2,\"successful\":1,\"failed\":0},\"_seq_no\":14,\"_primary_term\":1}{\"_index\":\"pub_med\",\"_id\":\"cBwrBI0BZKko4otC2KtI\",\"_version\":1,\"result\":\"created\",\"_shards\":{\"total\":2,\"successful\":1,\"failed\":0},\"_seq_no\":15,\"_primary_term\":1}{\"_index\":\"pub_med\",\"_id\":\"cRwrBI0BZKko4otC2Kva\",\"_version\":1,\"result\":\"created\",\"_shards\":{\"total\":2,\"successful\":1,\"failed\":0},\"_seq_no\":16,\"_primary_term\":1}{\"_index\":\"pub_med\",\"_id\":\"chwrBI0BZKko4otC2atu\",\"_version\":1,\"result\":\"created\",\"_shards\":{\"total\":2,\"successful\":1,\"failed\":0},\"_seq_no\":17,\"_primary_term\":1}{\"_index\":\"pub_med\",\"_id\":\"cxwrBI0BZKko4otC2qsB\",\"_version\":1,\"result\":\"created\",\"_shards\":{\"total\":2,\"successful\":1,\"failed\":0},\"_seq_no\":18,\"_primary_term\":1}{\"_index\":\"pub_med\",\"_id\":\"dBwrBI0BZKko4otC2quS\",\"_version\":1,\"result\":\"created\",\"_shards\":{\"total\":2,\"successful\":1,\"failed\":0},\"_seq_no\":19,\"_primary_term\":1}{\"_index\":\"pub_med\",\"_id\":\"dRwrBI0BZKko4otC26sr\",\"_version\":1,\"result\":\"created\",\"_shards\":{\"total\":2,\"successful\":1,\"failed\":0},\"_seq_no\":20,\"_primary_term\":1}{\"_index\":\"pub_med\",\"_id\":\"dhwrBI0BZKko4otC26vH\",\"_version\":1,\"result\":\"created\",\"_shards\":{\"total\":2,\"successful\":1,\"failed\":0},\"_seq_no\":21,\"_primary_term\":1}{\"_index\":\"pub_med\",\"_id\":\"dxwrBI0BZKko4otC3KtY\",\"_version\":1,\"result\":\"created\",\"_shards\":{\"total\":2,\"successful\":1,\"failed\":0},\"_seq_no\":22,\"_primary_term\":1}{\"_index\":\"pub_med\",\"_id\":\"eBwrBI0BZKko4otC3Kvq\",\"_version\":1,\"result\":\"created\",\"_shards\":{\"total\":2,\"successful\":1,\"failed\":0},\"_seq_no\":23,\"_primary_term\":1}{\"_index\":\"pub_med\",\"_id\":\"eRwrBI0BZKko4otC3at8\",\"_version\":1,\"result\":\"created\",\"_shards\":{\"total\":2,\"successful\":1,\"failed\":0},\"_seq_no\":24,\"_primary_term\":1}"
     ]
    }
   ],
   "source": [
    "for i, record in enumerate(preprocessed_records[0:20]):\n",
    "    # Serializing json\n",
    "    json_object = json.dumps(record, indent=4)\n",
    "\n",
    "    # Writing to sample.json\n",
    "    with open(\"sample.json\", \"w\") as outfile:\n",
    "        outfile.write(json_object)\n",
    "    \n",
    "    #url = f\"https://localhost:9200/pub_med/_doc/{i}\"\n",
    "        \n",
    "    !curl -X POST \"https://localhost:9200/pub_med/_doc\" -u admin:admin --insecure -H 'Content-Type: application/json' -d @sample.json  \n",
    "    "
   ]
  },
  {
   "cell_type": "code",
   "execution_count": 55,
   "id": "40993c5a",
   "metadata": {},
   "outputs": [
    {
     "name": "stdout",
     "output_type": "stream",
     "text": [
      "{\"took\":841,\"timed_out\":false,\"_shards\":{\"total\":1,\"successful\":1,\"skipped\":0,\"failed\":0},\"hits\":{\"total\":{\"value\":23,\"relation\":\"eq\"},\"max_score\":1.0,\"hits\":[{\"_index\":\"pub_med\",\"_id\":\"XRyVA40BZKko4otCQKu-\",\"_score\":1.0,\"_source\":{    \"id\": \"38085539\",    \"title\": \"High Seebeck Coefficient Inorganic Ge<sub>15</sub>Ga<sub>10</sub>Te<sub>75</sub> Core/Polymer Cladding Fibers for Respiration and Body Temperature Monitoring.\",    \"text\": \"Wearable thermal sensors based on thermoelectric (TE) materials with high sensitivity and temperature resolution are extensively used in medical diagnosis, human-machine interfaces, and advanced artificial intelligence. However, their development is greatly limited by the lack of materials with both a high Seebeck coefficient and superior anticrystallization ability. Here, a new inorganic amorphous TE material, Ge<sub>15</sub>Ga<sub>10</sub>Te<sub>75</sub>, with a high Seebeck coefficient of 1109 \\u03bcV/K is reported. Owing to the large difference between the glass-transition temperature and initial crystallization temperature, Ge<sub>15</sub>Ga<sub>10</sub>Te<sub>75</sub> strongly inhibits crystallization during fiber fabrication by thermally codrawing a precast rod comprising a Ge<sub>15</sub>Ga<sub>10</sub>Te<sub>75</sub> core and PP polymer cladding. The temperature difference can be effectively transduced into electrical signals to achieve TE fiber thermal sensing with an accurate temperature resolution of 0.03 K and a fast response time of 4 s. It is important to note that after the 1.5 and 5.5 K temperatures changed repeatedly, the TE properties of the fiber demonstrated high stability. Based on the Seebeck effect and superior flexibility of the fibers, they can be integrated into a mask and wearable fabric for human respiration and body temperature monitoring. The superior thermal sensing performance of the TE fibers together with their natural flexibility and scalable fabrication endow them with promising applications in health-monitoring and intelligent medical systems.\"}},{\"_index\":\"pub_med\",\"_id\":\"ZRwNBI0BZKko4otCxqts\",\"_score\":1.0,\"_source\":{    \"id\": \"38085539\",    \"title\": \"High Seebeck Coefficient Inorganic Ge<sub>15</sub>Ga<sub>10</sub>Te<sub>75</sub> Core/Polymer Cladding Fibers for Respiration and Body Temperature Monitoring.\",    \"text\": \"Wearable thermal sensors based on thermoelectric (TE) materials with high sensitivity and temperature resolution are extensively used in medical diagnosis, human-machine interfaces, and advanced artificial intelligence. However, their development is greatly limited by the lack of materials with both a high Seebeck coefficient and superior anticrystallization ability. Here, a new inorganic amorphous TE material, Ge<sub>15</sub>Ga<sub>10</sub>Te<sub>75</sub>, with a high Seebeck coefficient of 1109 \\u03bcV/K is reported. Owing to the large difference between the glass-transition temperature and initial crystallization temperature, Ge<sub>15</sub>Ga<sub>10</sub>Te<sub>75</sub> strongly inhibits crystallization during fiber fabrication by thermally codrawing a precast rod comprising a Ge<sub>15</sub>Ga<sub>10</sub>Te<sub>75</sub> core and PP polymer cladding. The temperature difference can be effectively transduced into electrical signals to achieve TE fiber thermal sensing with an accurate temperature resolution of 0.03 K and a fast response time of 4 s. It is important to note that after the 1.5 and 5.5 K temperatures changed repeatedly, the TE properties of the fiber demonstrated high stability. Based on the Seebeck effect and superior flexibility of the fibers, they can be integrated into a mask and wearable fabric for human respiration and body temperature monitoring. The superior thermal sensing performance of the TE fibers together with their natural flexibility and scalable fabrication endow them with promising applications in health-monitoring and intelligent medical systems.\"}},{\"_index\":\"pub_med\",\"_id\":\"10\",\"_score\":1.0,\"_source\":{    \"id\": \"38085539\",    \"title\": \"High Seebeck Coefficient Inorganic Ge<sub>15</sub>Ga<sub>10</sub>Te<sub>75</sub> Core/Polymer Cladding Fibers for Respiration and Body Temperature Monitoring.\",    \"text\": \"Wearable thermal sensors based on thermoelectric (TE) materials with high sensitivity and temperature resolution are extensively used in medical diagnosis, human-machine interfaces, and advanced artificial intelligence. However, their development is greatly limited by the lack of materials with both a high Seebeck coefficient and superior anticrystallization ability. Here, a new inorganic amorphous TE material, Ge<sub>15</sub>Ga<sub>10</sub>Te<sub>75</sub>, with a high Seebeck coefficient of 1109 \\u03bcV/K is reported. Owing to the large difference between the glass-transition temperature and initial crystallization temperature, Ge<sub>15</sub>Ga<sub>10</sub>Te<sub>75</sub> strongly inhibits crystallization during fiber fabrication by thermally codrawing a precast rod comprising a Ge<sub>15</sub>Ga<sub>10</sub>Te<sub>75</sub> core and PP polymer cladding. The temperature difference can be effectively transduced into electrical signals to achieve TE fiber thermal sensing with an accurate temperature resolution of 0.03 K and a fast response time of 4 s. It is important to note that after the 1.5 and 5.5 K temperatures changed repeatedly, the TE properties of the fiber demonstrated high stability. Based on the Seebeck effect and superior flexibility of the fibers, they can be integrated into a mask and wearable fabric for human respiration and body temperature monitoring. The superior thermal sensing performance of the TE fibers together with their natural flexibility and scalable fabrication endow them with promising applications in health-monitoring and intelligent medical systems.\"}},{\"_index\":\"pub_med\",\"_id\":\"ZhwrBI0BZKko4otC0quQ\",\"_score\":1.0,\"_source\":{    \"id\": \"38085539\",    \"title\": \"High Seebeck Coefficient Inorganic Ge<sub>15</sub>Ga<sub>10</sub>Te<sub>75</sub> Core/Polymer Cladding Fibers for Respiration and Body Temperature Monitoring.\",    \"text\": \"Wearable thermal sensors based on thermoelectric (TE) materials with high sensitivity and temperature resolution are extensively used in medical diagnosis, human-machine interfaces, and advanced artificial intelligence. However, their development is greatly limited by the lack of materials with both a high Seebeck coefficient and superior anticrystallization ability. Here, a new inorganic amorphous TE material, Ge<sub>15</sub>Ga<sub>10</sub>Te<sub>75</sub>, with a high Seebeck coefficient of 1109 \\u03bcV/K is reported. Owing to the large difference between the glass-transition temperature and initial crystallization temperature, Ge<sub>15</sub>Ga<sub>10</sub>Te<sub>75</sub> strongly inhibits crystallization during fiber fabrication by thermally codrawing a precast rod comprising a Ge<sub>15</sub>Ga<sub>10</sub>Te<sub>75</sub> core and PP polymer cladding. The temperature difference can be effectively transduced into electrical signals to achieve TE fiber thermal sensing with an accurate temperature resolution of 0.03 K and a fast response time of 4 s. It is important to note that after the 1.5 and 5.5 K temperatures changed repeatedly, the TE properties of the fiber demonstrated high stability. Based on the Seebeck effect and superior flexibility of the fibers, they can be integrated into a mask and wearable fabric for human respiration and body temperature monitoring. The superior thermal sensing performance of the TE fibers together with their natural flexibility and scalable fabrication endow them with promising applications in health-monitoring and intelligent medical systems.\"}},{\"_index\":\"pub_med\",\"_id\":\"ZxwrBI0BZKko4otC06sl\",\"_score\":1.0,\"_source\":{    \"id\": \"38085351\",    \"title\": \"Neuro-fuzzy modelling of a continuous stirred tank bioreactor with ceramic membrane technology for treating petroleum refinery effluent: a case study from Assam, India.\",    \"text\": \"A continuous stirred tank bioreactor (CSTB) with cell recycling combined with ceramic membrane technology and inoculated with Rhodococcus opacus PD630 was employed to treat petroleum refinery wastewater for simultaneous chemical oxygen demand (COD) removal and lipid production from the retentate obtained during wastewater treatment. In the present study, the COD removal efficiency (COD<sub>RE</sub>) (%) and lipid concentration (g/L) were predicted using two artificial intelligence models, i.e., an artificial neural network (ANN) and a neuro-fuzzy neural network (NF-NN) with a network topology of 6-25-2 being the best for NF-NN. The results revealed the superiority of NF-NN over ANN in terms of determination coefficient (R<sup>2</sup>), root mean square error (RMSE), and mean absolute percentage error (MAPE). Three learning algorithms were tested with NF-NN; among them, the Bayesian regularization backpropagation (BR-BP) outperformed others. The sensitivity analysis revealed that, if solid retention time and biomass concentrations were maintained between 35 and 75\\u00a0h and 3.0\\u00a0g/L and 3.5\\u00a0g/L, respectively, high COD<sub>RE</sub> (93%) and lipid concentration (2.8\\u00a0g/L) could be obtained consistently.\"}},{\"_index\":\"pub_med\",\"_id\":\"aBwrBI0BZKko4otC06u5\",\"_score\":1.0,\"_source\":{    \"id\": \"38085285\",    \"title\": \"[Quality indicators artificial intelligence].\",    \"text\": \"The ability of some artificial intelligence (AI) systems to autonomously evolve and the sometimes very limited possibilities to comprehend their decision-making processes present new challenges to our legal system. At a European level this has led to reform efforts, of which the proposal for a\\u00a0European AI regulation promises to close regulatory gaps in existing product safety law through cross-sectoral AI-specific safety requirements. A\\u00a0prerequisite, however, would be that the EU legislator does not only avoid duplications and contradictions with existing safety requirements but also refrains from imposing exaggerated and unattainable demands. If this were to be taken into consideration, the new safety requirements could also be used to specify the undefined standard of care in liability law. Nevertheless, challenges in the context of provability continue to remain unresolved, posing a\\u00a0risk of rendering the legal protection efforts of the aggrieved party ineffective. It remains to be seen whether the EU legislator will address this need for reform with the recently proposed reform of product liability law by the Commission.\"}},{\"_index\":\"pub_med\",\"_id\":\"aRwrBI0BZKko4otC1KtH\",\"_score\":1.0,\"_source\":{    \"id\": \"38085134\",    \"title\": \"Ultrafast Dynamic Contrast-Enhanced MRI of the Breast: From Theory to Practice.\",    \"text\": \"The development of ultrafast dynamic contrast-enhanced (UF-DCE) MRI has occurred in tandem with fast MRI scan techniques, particularly view-sharing and compressed sensing. Understanding the strengths of each technique and optimizing the relevant parameters are essential to their implementation. UF-DCE MRI has now shifted from research protocols to becoming a part of clinical scan protocols for breast cancer. UF-DCE MRI is expected to compensate for the low specificity of abbreviated MRI by adding kinetic information from the upslope of the time-intensity curve. Because kinetic information from UF-DCE MRI is obtained from the shape and timing of the initial upslope, various new kinetic parameters have been proposed. These parameters may be associated with receptor status or prognostic markers for breast cancer. In addition to the diagnosis of malignant lesions, more emphasis has been placed on predicting and evaluating treatment response because hyper-vascularity is linked to the aggressiveness of breast cancers. In clinical practice, it is important to note that breast lesion images obtained from UF-DCE MRI are slightly different from those obtained by conventional DCE MRI in terms of morphology. A major benefit of using UF-DCE MRI is avoidance of the marked or moderate background parenchymal enhancement (BPE) that can obscure the target enhancing lesions. BPE is less prominent in the earlier phases of UF-DCE MRI, which offers better lesion-to-noise contrast. The excellent contrast of early-enhancing vessels provides a key to understanding the detailed pathological structure of tumor-associated vessels. UF-DCE MRI is normally accompanied by a large volume of image data for which automated/artificial intelligence-based processing is expected to be useful. In this review, both the theoretical and practical aspects of UF-DCE MRI are summarized. EVIDENCE LEVEL: 5 TECHNICAL EFFICACY: Stage 2.\"}},{\"_index\":\"pub_med\",\"_id\":\"ahwrBI0BZKko4otC1KvP\",\"_score\":1.0,\"_source\":{    \"id\": \"38085079\",    \"title\": \"Using AI to Improve Radiologist Performance in Detection of Abnormalities on Chest Radiographs.\",    \"text\": \"Background Chest radiography remains the most common radiologic examination, and interpretation of its results can be difficult. Purpose To explore the potential benefit of artificial intelligence (AI) assistance in the detection of thoracic abnormalities on chest radiographs by evaluating the performance of radiologists with different levels of expertise, with and without AI assistance. Materials and Methods Patients who underwent both chest radiography and thoracic CT within 72 hours between January 2010 and December 2020 in a French public hospital were screened retrospectively. Radiographs were randomly included until reaching 500 radiographs, with about 50% of radiographs having abnormal findings. A senior thoracic radiologist annotated the radiographs for five abnormalities (pneumothorax, pleural effusion, consolidation, mediastinal and hilar mass, lung nodule) based on the corresponding CT results (ground truth). A total of 12 readers (four thoracic radiologists, four general radiologists, four radiology residents) read half the radiographs without AI and half the radiographs with AI (ChestView; Gleamer). Changes in sensitivity and specificity were measured using paired <i>t</i> tests. Results The study included 500 patients (mean age, 54 years \\u00b1 19 [SD]; 261 female, 239 male), with 522 abnormalities visible on 241 radiographs. On average, for all readers, AI use resulted in an absolute increase in sensitivity of 26% (95% CI: 20, 32), 14% (95% CI: 11, 17), 12% (95% CI: 10, 14), 8.5% (95% CI: 6, 11), and 5.9% (95% CI: 4, 8) for pneumothorax, consolidation, nodule, pleural effusion, and mediastinal and hilar mass, respectively (<i>P</i> < .001). Specificity increased with AI assistance (3.9% [95% CI: 3.2, 4.6], 3.7% [95% CI: 3, 4.4], 2.9% [95% CI: 2.3, 3.5], and 2.1% [95% CI: 1.6, 2.6] for pleural effusion, mediastinal and hilar mass, consolidation, and nodule, respectively), except in the diagnosis of pneumothorax (-0.2%; 95% CI: -0.36, -0.04; <i>P</i> = .01). The mean reading time was 81 seconds without AI versus 56 seconds with AI (31% decrease, <i>P</i> < .001). Conclusion AI-assisted chest radiography interpretation resulted in absolute increases in sensitivity for all radiologists of various levels of expertise and reduced the reading times; specificity increased with AI, except in the diagnosis of pneumothorax. \\u00a9 RSNA, 2023 <i>Supplemental material is available for this article.</i>\"}},{\"_index\":\"pub_med\",\"_id\":\"axwrBI0BZKko4otC1atk\",\"_score\":1.0,\"_source\":{    \"id\": \"38084894\",    \"title\": \"Prognostic Value of a Novel Artificial Intelligence-Based Coronary Computed Tomography Angiography-Derived Ischemia Algorithm for Patients with Suspected Coronary Artery Disease.\",    \"text\": \"Coronary computed tomography angiography (CTA) imaging is used to diagnose patients with suspected coronary artery disease (CAD). A novel artificial-intelligence-guided quantitative computed tomography ischemia algorithm (AI-QCTischemia) aims to identify myocardial ischemia directly from CTA images and may be helpful to improve risk stratification. The aims were 1) the prognostic value of AI-QCTischemia among symptomatic patients with suspected CAD entering diagnostic imaging with coronary CTA, and 2) the prognostic value of AI-QCTischemia separately among patients with no/non-obstructive CAD (\\u226450% visual diameter stenosis) and obstructive CAD (>50% visual diameter stenosis). For this cohort study, AI-QCTischemia was calculated by blinded analysts among patients with suspected CAD undergoing coronary CTA. The primary endpoint was the composite of death, myocardial infarction (MI), or unstable angina pectoris (uAP) (median follow-up 6.9 years). 1880/2271 (83%) patients were analyzable by AI-QCTischemia. Patients with an abnormal AI-QCTischemia result (n\\u2009=\\u2009509/1880) vs. patients with a normal AI-QCTischemia result (n\\u2009=\\u20091371/1880) had significantly higher crude and adjusted rates of the primary endpoint (HRadj 1.96,95% CI 1.46-2.63, p\\u2009<\\u20090.001; covariates: age/sex/hypertension/diabetes/smoking/typical angina). An abnormal AI-QCTischemia result was associated with significantly higher crude and adjusted rates of the primary endpoint among patients with no/non-obstructive CAD (n\\u2009=\\u20091373/1847) (HRadj 1.81,95% CI 1.09-3.00, p\\u2009=\\u20090.022), but not among those with obstructive CAD (n\\u2009=\\u2009474/1847) (HRadj 1.26,95% CI 0.75-2.12, p\\u2009=\\u20090.386) (p-interaction\\u2009=\\u20090.032). Among patients with suspected CAD, an abnormal AI-QCTischemia result was associated with a 2-fold increased adjusted rate of long-term death, MI, or uAP. AI-QCTischemia may be useful to improve risk stratification, especially among patients with no/non-obstructive CAD on coronary CTA.\"}},{\"_index\":\"pub_med\",\"_id\":\"bBwrBI0BZKko4otC1av5\",\"_score\":1.0,\"_source\":{    \"id\": \"38084803\",    \"title\": \"The ASQ did not predict low IQ scores when children born VPT were six years.\",    \"text\": \"There is a need for methods that can provide valid assessment tools in a follow-up programme without great financial costs. This study assessed the accuracy of the 60-month Ages and Stages Questionnaire as a screening tool to predict a low intelligence quotient score at 6\\u2009years in children born very preterm. Totally, 54 children participated in a six-year follow-up study, which included an intelligence quotient test at 6\\u2009years of age and a 60-month Ages and Stages Questionnaire at four and a half or 5\\u2009years of age at respond. We used the receiver operating characteristic curve and evaluated the optimal cut-off score to predict a low intelligence quotient score. At four and a half years, the optimal cut-off value for predicting a low intelligence quotient score was 242, with a sensitivity of 67% and a specificity of 59%. At 5\\u2009years, only one child had a low intelligence quotient score, and the analysis was not performed. Our results did not support the use of the 60-month Ages and Stages Questionnaire as a valuable screening tool to predict a low intelligence quotient score in children born very preterm at 6\\u2009years of age.\"}}]}}"
     ]
    }
   ],
   "source": [
    "!curl -X GET \"https://localhost:9200/pub_med/_search\" -ku admin:admin -H 'Content-Type: application/json' -d '{\"query\":{\"match_all\":{}}}'"
   ]
  },
  {
   "cell_type": "markdown",
   "id": "d8c4d340",
   "metadata": {},
   "source": [
    "## Retrieving Document by ID"
   ]
  },
  {
   "cell_type": "markdown",
   "id": "8cc789c8",
   "metadata": {},
   "source": [
    "Get all id's of the index"
   ]
  },
  {
   "cell_type": "code",
   "execution_count": 57,
   "id": "d6ad3bc5",
   "metadata": {},
   "outputs": [
    {
     "name": "stdout",
     "output_type": "stream",
     "text": [
      "{\"took\":3,\"timed_out\":false,\"_shards\":{\"total\":1,\"successful\":1,\"skipped\":0,\"failed\":0},\"hits\":{\"total\":{\"value\":23,\"relation\":\"eq\"},\"max_score\":1.0,\"hits\":[{\"_index\":\"pub_med\",\"_id\":\"XRyVA40BZKko4otCQKu-\",\"_score\":1.0},{\"_index\":\"pub_med\",\"_id\":\"ZRwNBI0BZKko4otCxqts\",\"_score\":1.0},{\"_index\":\"pub_med\",\"_id\":\"10\",\"_score\":1.0},{\"_index\":\"pub_med\",\"_id\":\"ZhwrBI0BZKko4otC0quQ\",\"_score\":1.0},{\"_index\":\"pub_med\",\"_id\":\"ZxwrBI0BZKko4otC06sl\",\"_score\":1.0},{\"_index\":\"pub_med\",\"_id\":\"aBwrBI0BZKko4otC06u5\",\"_score\":1.0},{\"_index\":\"pub_med\",\"_id\":\"aRwrBI0BZKko4otC1KtH\",\"_score\":1.0},{\"_index\":\"pub_med\",\"_id\":\"ahwrBI0BZKko4otC1KvP\",\"_score\":1.0},{\"_index\":\"pub_med\",\"_id\":\"axwrBI0BZKko4otC1atk\",\"_score\":1.0},{\"_index\":\"pub_med\",\"_id\":\"bBwrBI0BZKko4otC1av5\",\"_score\":1.0}]}}"
     ]
    }
   ],
   "source": [
    "!curl -X GET \"https://localhost:9200/pub_med/_search\" -ku admin:admin -H 'Content-Type: application/json' -d '{\"_source\": false,\"query\":{\"match_all\":{}}}'"
   ]
  },
  {
   "cell_type": "code",
   "execution_count": 39,
   "id": "2907acc4",
   "metadata": {},
   "outputs": [
    {
     "name": "stdout",
     "output_type": "stream",
     "text": [
      "{\"_index\":\"pub_med\",\"_id\":\"XRyVA40BZKko4otCQKu-\",\"_version\":1,\"_seq_no\":0,\"_primary_term\":1,\"found\":true,\"_source\":{    \"id\": \"38085539\",    \"title\": \"High Seebeck Coefficient Inorganic Ge<sub>15</sub>Ga<sub>10</sub>Te<sub>75</sub> Core/Polymer Cladding Fibers for Respiration and Body Temperature Monitoring.\",    \"text\": \"Wearable thermal sensors based on thermoelectric (TE) materials with high sensitivity and temperature resolution are extensively used in medical diagnosis, human-machine interfaces, and advanced artificial intelligence. However, their development is greatly limited by the lack of materials with both a high Seebeck coefficient and superior anticrystallization ability. Here, a new inorganic amorphous TE material, Ge<sub>15</sub>Ga<sub>10</sub>Te<sub>75</sub>, with a high Seebeck coefficient of 1109 \\u03bcV/K is reported. Owing to the large difference between the glass-transition temperature and initial crystallization temperature, Ge<sub>15</sub>Ga<sub>10</sub>Te<sub>75</sub> strongly inhibits crystallization during fiber fabrication by thermally codrawing a precast rod comprising a Ge<sub>15</sub>Ga<sub>10</sub>Te<sub>75</sub> core and PP polymer cladding. The temperature difference can be effectively transduced into electrical signals to achieve TE fiber thermal sensing with an accurate temperature resolution of 0.03 K and a fast response time of 4 s. It is important to note that after the 1.5 and 5.5 K temperatures changed repeatedly, the TE properties of the fiber demonstrated high stability. Based on the Seebeck effect and superior flexibility of the fibers, they can be integrated into a mask and wearable fabric for human respiration and body temperature monitoring. The superior thermal sensing performance of the TE fibers together with their natural flexibility and scalable fabrication endow them with promising applications in health-monitoring and intelligent medical systems.\"}}"
     ]
    }
   ],
   "source": [
    "!curl -X GET \"https://localhost:9200/pub_med/_doc/XRyVA40BZKko4otCQKu-\" -u admin:admin --insecure"
   ]
  },
  {
   "cell_type": "code",
   "execution_count": 40,
   "id": "29af24c2",
   "metadata": {},
   "outputs": [
    {
     "name": "stdout",
     "output_type": "stream",
     "text": [
      "{\"_index\":\"pub_med\",\"_id\":\"10\",\"_version\":1,\"_seq_no\":2,\"_primary_term\":1,\"found\":true,\"_source\":{    \"id\": \"38085539\",    \"title\": \"High Seebeck Coefficient Inorganic Ge<sub>15</sub>Ga<sub>10</sub>Te<sub>75</sub> Core/Polymer Cladding Fibers for Respiration and Body Temperature Monitoring.\",    \"text\": \"Wearable thermal sensors based on thermoelectric (TE) materials with high sensitivity and temperature resolution are extensively used in medical diagnosis, human-machine interfaces, and advanced artificial intelligence. However, their development is greatly limited by the lack of materials with both a high Seebeck coefficient and superior anticrystallization ability. Here, a new inorganic amorphous TE material, Ge<sub>15</sub>Ga<sub>10</sub>Te<sub>75</sub>, with a high Seebeck coefficient of 1109 \\u03bcV/K is reported. Owing to the large difference between the glass-transition temperature and initial crystallization temperature, Ge<sub>15</sub>Ga<sub>10</sub>Te<sub>75</sub> strongly inhibits crystallization during fiber fabrication by thermally codrawing a precast rod comprising a Ge<sub>15</sub>Ga<sub>10</sub>Te<sub>75</sub> core and PP polymer cladding. The temperature difference can be effectively transduced into electrical signals to achieve TE fiber thermal sensing with an accurate temperature resolution of 0.03 K and a fast response time of 4 s. It is important to note that after the 1.5 and 5.5 K temperatures changed repeatedly, the TE properties of the fiber demonstrated high stability. Based on the Seebeck effect and superior flexibility of the fibers, they can be integrated into a mask and wearable fabric for human respiration and body temperature monitoring. The superior thermal sensing performance of the TE fibers together with their natural flexibility and scalable fabrication endow them with promising applications in health-monitoring and intelligent medical systems.\"}}"
     ]
    }
   ],
   "source": [
    "!curl -X GET \"https://localhost:9200/pub_med/_doc/10\" -u admin:admin --insecure"
   ]
  },
  {
   "cell_type": "markdown",
   "id": "f43e35c4",
   "metadata": {},
   "source": [
    "## Search in Document "
   ]
  },
  {
   "cell_type": "code",
   "execution_count": 17,
   "id": "a524956f",
   "metadata": {},
   "outputs": [
    {
     "name": "stdout",
     "output_type": "stream",
     "text": [
      "{\"took\":50,\"timed_out\":false,\"_shards\":{\"total\":1,\"successful\":1,\"skipped\":0,\"failed\":0},\"hits\":{\"total\":{\"value\":1,\"relation\":\"eq\"},\"max_score\":1.0,\"hits\":[{\"_index\":\"pub_med\",\"_id\":\"XRyVA40BZKko4otCQKu-\",\"_score\":1.0,\"_source\":{    \"id\": \"38085539\",    \"title\": \"High Seebeck Coefficient Inorganic Ge<sub>15</sub>Ga<sub>10</sub>Te<sub>75</sub> Core/Polymer Cladding Fibers for Respiration and Body Temperature Monitoring.\",    \"text\": \"Wearable thermal sensors based on thermoelectric (TE) materials with high sensitivity and temperature resolution are extensively used in medical diagnosis, human-machine interfaces, and advanced artificial intelligence. However, their development is greatly limited by the lack of materials with both a high Seebeck coefficient and superior anticrystallization ability. Here, a new inorganic amorphous TE material, Ge<sub>15</sub>Ga<sub>10</sub>Te<sub>75</sub>, with a high Seebeck coefficient of 1109 \\u03bcV/K is reported. Owing to the large difference between the glass-transition temperature and initial crystallization temperature, Ge<sub>15</sub>Ga<sub>10</sub>Te<sub>75</sub> strongly inhibits crystallization during fiber fabrication by thermally codrawing a precast rod comprising a Ge<sub>15</sub>Ga<sub>10</sub>Te<sub>75</sub> core and PP polymer cladding. The temperature difference can be effectively transduced into electrical signals to achieve TE fiber thermal sensing with an accurate temperature resolution of 0.03 K and a fast response time of 4 s. It is important to note that after the 1.5 and 5.5 K temperatures changed repeatedly, the TE properties of the fiber demonstrated high stability. Based on the Seebeck effect and superior flexibility of the fibers, they can be integrated into a mask and wearable fabric for human respiration and body temperature monitoring. The superior thermal sensing performance of the TE fibers together with their natural flexibility and scalable fabrication endow them with promising applications in health-monitoring and intelligent medical systems.\"}}]}}"
     ]
    }
   ],
   "source": [
    "!curl -X GET \"https://localhost:9200/pub_med/_search?q=*\" -u admin:admin --insecure"
   ]
  },
  {
   "cell_type": "code",
   "execution_count": 31,
   "id": "8efd0f51",
   "metadata": {},
   "outputs": [
    {
     "name": "stdout",
     "output_type": "stream",
     "text": [
      "{\"took\":2,\"timed_out\":false,\"_shards\":{\"total\":1,\"successful\":1,\"skipped\":0,\"failed\":0},\"hits\":{\"total\":{\"value\":0,\"relation\":\"eq\"},\"max_score\":null,\"hits\":[]}}"
     ]
    }
   ],
   "source": [
    "!curl -X GET \"https://localhost:9200/pub_med/_search\" -ku admin:admin -H 'Content-Type: application/json' -d '{\"query\":{\"term\":{\"is_active\":{\"value\": true}}}}'"
   ]
  },
  {
   "cell_type": "code",
   "execution_count": 33,
   "id": "6f81b783",
   "metadata": {},
   "outputs": [
    {
     "name": "stdout",
     "output_type": "stream",
     "text": [
      "{\"took\":4,\"timed_out\":false,\"_shards\":{\"total\":1,\"successful\":1,\"skipped\":0,\"failed\":0},\"hits\":{\"total\":{\"value\":1,\"relation\":\"eq\"},\"max_score\":0.2876821,\"hits\":[{\"_index\":\"pub_med\",\"_id\":\"XRyVA40BZKko4otCQKu-\",\"_score\":0.2876821,\"_source\":{    \"id\": \"38085539\",    \"title\": \"High Seebeck Coefficient Inorganic Ge<sub>15</sub>Ga<sub>10</sub>Te<sub>75</sub> Core/Polymer Cladding Fibers for Respiration and Body Temperature Monitoring.\",    \"text\": \"Wearable thermal sensors based on thermoelectric (TE) materials with high sensitivity and temperature resolution are extensively used in medical diagnosis, human-machine interfaces, and advanced artificial intelligence. However, their development is greatly limited by the lack of materials with both a high Seebeck coefficient and superior anticrystallization ability. Here, a new inorganic amorphous TE material, Ge<sub>15</sub>Ga<sub>10</sub>Te<sub>75</sub>, with a high Seebeck coefficient of 1109 \\u03bcV/K is reported. Owing to the large difference between the glass-transition temperature and initial crystallization temperature, Ge<sub>15</sub>Ga<sub>10</sub>Te<sub>75</sub> strongly inhibits crystallization during fiber fabrication by thermally codrawing a precast rod comprising a Ge<sub>15</sub>Ga<sub>10</sub>Te<sub>75</sub> core and PP polymer cladding. The temperature difference can be effectively transduced into electrical signals to achieve TE fiber thermal sensing with an accurate temperature resolution of 0.03 K and a fast response time of 4 s. It is important to note that after the 1.5 and 5.5 K temperatures changed repeatedly, the TE properties of the fiber demonstrated high stability. Based on the Seebeck effect and superior flexibility of the fibers, they can be integrated into a mask and wearable fabric for human respiration and body temperature monitoring. The superior thermal sensing performance of the TE fibers together with their natural flexibility and scalable fabrication endow them with promising applications in health-monitoring and intelligent medical systems.\"}}]}}"
     ]
    }
   ],
   "source": [
    "!curl -X GET \"https://localhost:9200/pub_med/_search\" -ku admin:admin -H 'Content-Type: application/json' -d '{\"query\":{\"term\":{\"text\": \"demonstrated\"}}}'"
   ]
  },
  {
   "cell_type": "code",
   "execution_count": 58,
   "id": "45619634",
   "metadata": {},
   "outputs": [
    {
     "name": "stdout",
     "output_type": "stream",
     "text": [
      "{\"took\":2,\"timed_out\":false,\"_shards\":{\"total\":1,\"successful\":1,\"skipped\":0,\"failed\":0},\"hits\":{\"total\":{\"value\":20,\"relation\":\"eq\"},\"max_score\":0.29416478,\"hits\":[{\"_index\":\"pub_med\",\"_id\":\"bBwrBI0BZKko4otC1av5\",\"_score\":0.29416478,\"_source\":{    \"id\": \"38084803\",    \"title\": \"The ASQ did not predict low IQ scores when children born VPT were six years.\",    \"text\": \"There is a need for methods that can provide valid assessment tools in a follow-up programme without great financial costs. This study assessed the accuracy of the 60-month Ages and Stages Questionnaire as a screening tool to predict a low intelligence quotient score at 6\\u2009years in children born very preterm. Totally, 54 children participated in a six-year follow-up study, which included an intelligence quotient test at 6\\u2009years of age and a 60-month Ages and Stages Questionnaire at four and a half or 5\\u2009years of age at respond. We used the receiver operating characteristic curve and evaluated the optimal cut-off score to predict a low intelligence quotient score. At four and a half years, the optimal cut-off value for predicting a low intelligence quotient score was 242, with a sensitivity of 67% and a specificity of 59%. At 5\\u2009years, only one child had a low intelligence quotient score, and the analysis was not performed. Our results did not support the use of the 60-month Ages and Stages Questionnaire as a valuable screening tool to predict a low intelligence quotient score in children born very preterm at 6\\u2009years of age.\"}},{\"_index\":\"pub_med\",\"_id\":\"dBwrBI0BZKko4otC2quS\",\"_score\":0.25770932,\"_source\":{    \"id\": \"38084030\",    \"title\": \"Intelligence-Dependent Differential Effects of Media Exposure on Executive Function Changes in Children: A Population-Based Cohort Study With a Longitudinal Design.\",    \"text\": \"Excessive media use is known to be associated with executive dysfunction in children, but it's unclear whether this exposure can lead to long-term changes of executive function. This study aimed to investigate the association between media exposure and longitudinal changes in executive function within a population-based study, while considering the potential influence of intelligence. This study used data from 1,209 participants in the Panel Korea Study for Children. The children's media exposure was measured at ages 7 and 8, and executive function was evaluated annually from ages 7 to 10 using the Executive Function Difficulty Screening Questionnaire. Participants were grouped by media exposure level (low, medium, or high), and longitudinal changes in executive function were analyzed using linear mixed effects models. Subgroup analysis was conducted to investigate how executive function changes varied based on intelligence within each media exposure group. Children with high media exposure (n = 97) had severer executive function difficulties than those with low (n = 141) or medium (n = 971) exposure in all waves. The high exposure group demonstrated persistent higher executive function difficulties up to age 10 after controlling for child gender, intelligence, parental education level and maternal depression. Children with intelligence quotient (IQ) \\u2264 100 in the medium to high media exposure group had significantly more severe executive function difficulties than those with IQ > 100. This study provided evidence of a longitudinal negative association between media exposure and executive function. The findings suggest that excessive media exposure may lead to long-term changes in executive function in children and highlight the importance of implementing targeted interventions and educational strategies to mitigate the potential negative effects of excessive media use, particularly for children with lower cognitive abilities.\"}},{\"_index\":\"pub_med\",\"_id\":\"bRwrBI0BZKko4otC1quN\",\"_score\":0.21694493,\"_source\":{    \"id\": \"38084508\",    \"title\": \"Artificial Intelligence Agents for Materials Sciences.\",    \"text\": \"The artificial intelligence (AI) tools based on large-language models may serve as a demonstration that we are reaching a groundbreaking new paradigm in which machines themselves will generate knowledge autonomously. This statement is based on the assumption that the ability to master natural languages is the ultimate frontier for this new paradigm and perhaps an essential step to achieving the so-called general artificial intelligence. Autonomous knowledge generation implies that a machine will be able, for instance, to retrieve and understand the contents of the scientific literature and provide interpretations for existing data, allowing it to propose and address new scientific problems. While one may assume that the continued development of AI tools exploiting large-language models, with more data used for training, may lead these systems to learn autonomously, this learning can be accelerated by devising human-assisted strategies to deal with specific tasks. For example, strategies may be implemented for AI tools to emulate the analysis of multivariate data by human experts or in identifying and explaining patterns in temporal series. In addition to generic AI tools, such as Chat AIs, one may conceive personal AI agents, potentially working together, that are likely to serve end users in the near future. In this perspective paper, we discuss the development of this type of agent, focusing on its architecture and requirements. As a proof-of-concept, we exemplify how such an AI agent could work to assist researchers in materials sciences.\"}},{\"_index\":\"pub_med\",\"_id\":\"bxwrBI0BZKko4otC16u0\",\"_score\":0.21694493,\"_source\":{    \"id\": \"38084339\",    \"title\": \"Using Artificial Intelligence to Semi-Quantitate Coronary Calcium as an 'Incidentaloma' on Non-Gated, Non-Contrast CT Scans, A Single-Center Descriptive Study in West Michigan.\",    \"text\": \"Non-gated, non-contrast computed tomography (CT) scans are commonly ordered for a variety of non-cardiac indications, but do not routinely comment on the presence of coronary artery calcium (CAC)/atherosclerotic cardiovascular disease (ASCVD) which is known to correlate with increased cardiovascular risk. Artificial intelligence (AI) algorithms can help detect and quantify CAC/ASCVD which can lead to early treatment and improved outcomes. Using an FDA-approved algorithm (NANOX AI) to measure coronary artery calcium (CAC) on non-gated, non-contrast CT chest, 536 serial scans were evaluated in this single-center retrospective study. Scans were categorized by Agatston scores as normal-mild (<100), moderate (100-399), or severe (\\u2265400). AI results were validated by cardiologist's overread. Patient charts were retrospectively analyzed for clinical characteristics. Of the 527 patients included in this analysis, a total of 258 (48.96%) had moderate-severe disease; of these, 164 patients (63.57%, p< 0.001) had no previous diagnosis of CAD. Of those with moderate-severe disease 135 of 258 (52.33% p=0.006) were not on aspirin and 96 (37.21% p=0.093) were not on statin therapy. Cardiologist interpretation demonstrated 88.76% agreement with AI classification. Machine learning utilized in CT scans obtained for non-cardiac indications can detect and semi-quantitate CAC accurately. Artificial intelligence algorithms can accurately be applied to non-gated, non-contrast CT scans to identify CAC/ASCVD allowing for early medical intervention and improved clinical outcomes.\"}},{\"_index\":\"pub_med\",\"_id\":\"bhwrBI0BZKko4otC16se\",\"_score\":0.20010343,\"_source\":{    \"id\": \"38084492\",    \"title\": \"Advances in breast cancer risk modeling: integrating clinics, imaging, pathology and artificial intelligence for personalized risk assessment.\",    \"text\": \"Breast cancer risk models represent the likelihood of developing breast cancer based on risk factors. They enable personalized interventions to improve screening programs. Radiologists identify mammographic density as a significant risk factor and test new imaging techniques. Pathologists provide data for risk assessment. Clinicians conduct individual risk assessments and adopt prevention strategies for high-risk subjects. Tumor genetic testing guides personalized screening and treatment decisions. Artificial intelligence (AI) in mammography integrates imaging, clinical, genetic and pathological data to develop risk models. Emerging imaging technologies, genetic testing\\u00a0and molecular profiling improve risk model accuracy. The complexity of the disease, limited data availability\\u00a0and model inputs are discussed. A multidisciplinary approach is essential for earlier detection and improved outcomes.\"}},{\"_index\":\"pub_med\",\"_id\":\"aBwrBI0BZKko4otC06u5\",\"_score\":0.17788038,\"_source\":{    \"id\": \"38085285\",    \"title\": \"[Quality indicators artificial intelligence].\",    \"text\": \"The ability of some artificial intelligence (AI) systems to autonomously evolve and the sometimes very limited possibilities to comprehend their decision-making processes present new challenges to our legal system. At a European level this has led to reform efforts, of which the proposal for a\\u00a0European AI regulation promises to close regulatory gaps in existing product safety law through cross-sectoral AI-specific safety requirements. A\\u00a0prerequisite, however, would be that the EU legislator does not only avoid duplications and contradictions with existing safety requirements but also refrains from imposing exaggerated and unattainable demands. If this were to be taken into consideration, the new safety requirements could also be used to specify the undefined standard of care in liability law. Nevertheless, challenges in the context of provability continue to remain unresolved, posing a\\u00a0risk of rendering the legal protection efforts of the aggrieved party ineffective. It remains to be seen whether the EU legislator will address this need for reform with the recently proposed reform of product liability law by the Commission.\"}},{\"_index\":\"pub_med\",\"_id\":\"cxwrBI0BZKko4otC2qsB\",\"_score\":0.17788038,\"_source\":{    \"id\": \"38084046\",    \"title\": \"Enhancing Opioid Bioactivity Predictions through Integration of Ligand-Based and Structure-Based Drug Discovery Strategies with Transfer and Deep Learning Techniques.\",    \"text\": \"The opioid epidemic has cast a shadow over public health, necessitating immediate action to address its devastating consequences. To effectively combat this crisis, it is crucial to discover better opioid drugs with reduced addiction potential. Artificial intelligence-based and other machine learning tools, particularly deep learning models, have garnered significant attention in recent years for their potential to advance drug discovery. However, using these tools poses challenges, especially when training samples are insufficient to achieve adequate prediction performance. In this study, we investigate the effectiveness of transfer learning in building robust deep learning models to enhance ligand bioactivity prediction for each individual opioid receptor (OR) subtype. This is achieved by leveraging knowledge obtained from pretraining a model using supervised learning on a larger data set of bioactivity data combined with ligand-based and structure-based molecular descriptors related to the entire OR subfamily. Our studies hold the potential to advance opioid research by enabling the rapid identification of novel chemical probes with specific bioactivities, which can aid in the study of receptor function and contribute to the future development of improved opioid therapeutics.\"}},{\"_index\":\"pub_med\",\"_id\":\"dxwrBI0BZKko4otC3KtY\",\"_score\":0.17788038,\"_source\":{    \"id\": \"38083788\",    \"title\": \"Modularity Facilitates Classification Performance of Spiking Neural Networks for Decoding Cortical Spike Trains.\",    \"text\": \"After the introduction of recurrence, an important property of the biological brain, spiking neural networks (SNNs) have achieved unprecedented classification performance. But they still cannot outperform many artificial neural networks. Modularity is another crucial feature of the biological brain. It remains unclear if modularity can also improve the performance of SNNs. To investigate this idea, we proposed the modular SNN, and compared its performance with a uniform SNN without modularity by employing them to classify cortical spike trains. For the first time, a significant improvement was found in our modular SNN. Further, we probed into the factors influencing the performance of the modular SNN and found: (a). The modular SNN outperformed the uniform SNN more significantly when the number of neurons in the networks increased; (b). The performance of the modular SNNs increased as the number of modules dropped. These preliminary but novel findings suggest that modularity may help develop better artificial intelligence and brain-machine interfaces. Also, the modular SNN may serve as a model for the study of neuronal spike synchrony.\"}},{\"_index\":\"pub_med\",\"_id\":\"eBwrBI0BZKko4otC3Kvq\",\"_score\":0.17788038,\"_source\":{    \"id\": \"38083782\",    \"title\": \"Abnormal Respiratory Sound Identification Using Audio-Spectrogram Vision Transformer.\",    \"text\": \"Respiratory disease, the third leading cause of deaths globally, is considered a high-priority ailment requiring significant research on identification and treatment. Stethoscope-recorded lung sounds and artificial intelligence-powered devices have been used to identify lung disorders and aid specialists in making accurate diagnoses. In this study, audio-spectrogram vision transformer (AS-ViT), a new approach for identifying abnormal respiration sounds, was developed. The sounds of the lungs are converted into visual representations called spectrograms using a technique called short-time Fourier transform (STFT). These images are then analyzed using a model called vision transformer to identify different types of respiratory sounds. The classification was carried out using the ICBHI 2017 database, which includes various types of lung sounds with different frequencies, noise levels, and backgrounds. The proposed AS-ViT method was evaluated using three metrics and achieved 79.1% and 59.8% for 60:40 split ratio and 86.4% and 69.3% for 80:20 split ratio in terms of unweighted average recall and overall scores respectively for respiratory sound detection, surpassing previous state-of-the-art results.\"}},{\"_index\":\"pub_med\",\"_id\":\"ZxwrBI0BZKko4otC06sl\",\"_score\":0.17240967,\"_source\":{    \"id\": \"38085351\",    \"title\": \"Neuro-fuzzy modelling of a continuous stirred tank bioreactor with ceramic membrane technology for treating petroleum refinery effluent: a case study from Assam, India.\",    \"text\": \"A continuous stirred tank bioreactor (CSTB) with cell recycling combined with ceramic membrane technology and inoculated with Rhodococcus opacus PD630 was employed to treat petroleum refinery wastewater for simultaneous chemical oxygen demand (COD) removal and lipid production from the retentate obtained during wastewater treatment. In the present study, the COD removal efficiency (COD<sub>RE</sub>) (%) and lipid concentration (g/L) were predicted using two artificial intelligence models, i.e., an artificial neural network (ANN) and a neuro-fuzzy neural network (NF-NN) with a network topology of 6-25-2 being the best for NF-NN. The results revealed the superiority of NF-NN over ANN in terms of determination coefficient (R<sup>2</sup>), root mean square error (RMSE), and mean absolute percentage error (MAPE). Three learning algorithms were tested with NF-NN; among them, the Bayesian regularization backpropagation (BR-BP) outperformed others. The sensitivity analysis revealed that, if solid retention time and biomass concentrations were maintained between 35 and 75\\u00a0h and 3.0\\u00a0g/L and 3.5\\u00a0g/L, respectively, high COD<sub>RE</sub> (93%) and lipid concentration (2.8\\u00a0g/L) could be obtained consistently.\"}}]}}"
     ]
    }
   ],
   "source": [
    "!curl -X GET \"https://localhost:9200/pub_med/_search\" -ku admin:admin -H 'Content-Type: application/json' -d '{\"query\":{\"term\":{\"text\": \"intelligence\"}}}'"
   ]
  },
  {
   "cell_type": "code",
   "execution_count": 59,
   "id": "ef81db2c",
   "metadata": {},
   "outputs": [],
   "source": [
    "data = !curl -X GET \"https://localhost:9200/pub_med/_search\" -ku admin:admin -H 'Content-Type: application/json' -d '{\"query\":{\"term\":{\"text\": \"intelligence\"}}}'"
   ]
  },
  {
   "cell_type": "code",
   "execution_count": 63,
   "id": "c7b34cf0",
   "metadata": {},
   "outputs": [
    {
     "name": "stdout",
     "output_type": "stream",
     "text": [
      "  % Total    % Received % Xferd  Average Speed   Time    Time     Time  Current\n",
      "                                 Dload  Upload   Total   Spent    Left  Speed\n",
      "\n",
      "  0     0    0     0    0     0      0      0 --:--:-- --:--:-- --:--:--     0{\"took\":2,\"timed_out\":false,\"_shards\":{\"total\":1,\"successful\":1,\"skipped\":0,\"failed\":0},\"hits\":{\"total\":{\"value\":20,\"relation\":\"eq\"},\"max_score\":0.29416478,\"hits\":[{\"_index\":\"pub_med\",\"_id\":\"bBwrBI0BZKko4otC1av5\",\"_score\":0.29416478,\"_source\":{    \"id\": \"38084803\",    \"title\": \"The ASQ did not predict low IQ scores when children born VPT were six years.\",    \"text\": \"There is a need for methods that can provide valid assessment tools in a follow-up programme without great financial costs. This study assessed the accuracy of the 60-month Ages and Stages Questionnaire as a screening tool to predict a low intelligence quotient score at 6\\u2009years in children born very preterm. Totally, 54 children participated in a six-year follow-up study, which included an intelligence quotient test at 6\\u2009years of age and a 60-month Ages and Stages Questionnaire at four and a half or 5\\u2009years of age at respond. We used the receiver operating characteristic curve and evaluated the optimal cut-off score to predict a low intelligence quotient score. At four and a half years, the optimal cut-off value for predicting a low intelligence quotient score was 242, with a sensitivity of 67% and a specificity of 59%. At 5\\u2009years, only one child had a low intelligence quotient score, and the analysis was not performed. Our results did not support the use of the 60-month Ages and Stages Questionnaire as a valuable screening tool to predict a low intelligence quotient score in children born very preterm at 6\\u2009years of age.\"}},{\"_index\":\"pub_med\",\"_id\":\"dBwrBI0BZKko4otC2quS\",\"_score\":0.25770932,\"_source\":{    \"id\": \"38084030\",    \"title\": \"Intelligence-Dependent Differential Effects of Media Exposure on Executive Function Changes in Children: A Population-Based Cohort Study With a Longitudinal Design.\",    \"text\": \"Excessive media use is known to be associated with executive dysfunction in children, but it's unclear whether this exposure can lead to long-term changes of executive function. This study aimed to investigate the association between media exposure and longitudinal changes in executive function within a population-based study, while considering the potential influence of intelligence. This study used data from 1,209 participants in the Panel Korea Study for Children. The children's media exposure was measured at ages 7 and 8, and executive function was evaluated annually from ages 7 to 10 using the Executive Function Difficulty Screening Questionnaire. Participants were grouped by media exposure level (low, medium, or high), and longitudinal changes in executive function were analyzed using linear mixed effects models. Subgroup analysis was conducted to investigate how executive function changes varied based on intelligence within each media exposure group. Children with high media exposure (n = 97) had severer executive function difficulties than those with low (n = 141) or medium (n = 971) exposure in all waves. The high exposure group demonstrated persistent higher executive function difficulties up to age 10 after controlling for child gender, intelligence, parental education level and maternal depression. Children with intelligence quotient (IQ) \\u2264 100 in the medium to high media exposure group had significantly more severe executive function difficulties than those with IQ > 100. This study provided evidence of a longitudinal negative association between media exposure and executive function. The findings suggest that excessive media exposure may lead to long-term changes in executive function in children and highlight the importance of implementing targeted interventions and educational strategies to mitigate the potential negative effects of excessive media use, particularly for children with lower cognitive abilities.\"}},{\"_index\":\"pub_med\",\"_id\":\"bRwrBI0BZKko4otC1quN\",\"_score\":0.21694493,\"_source\":{    \"id\": \"38084508\",    \"title\": \"Artificial Intelligence Agents for Materials Sciences.\",    \"text\": \"The artificial intelligence (AI) tools based on large-language models may serve as a demonstration that we are reaching a groundbreaking new paradigm in which machines themselves will generate knowledge autonomously. This statement is based on the assumption that the ability to master natural languages is the ultimate frontier for this new paradigm and perhaps an essential step to achieving the so-called general artificial intelligence. Autonomous knowledge generation implies that a machine will be able, for instance, to retrieve and understand the contents of the scientific literature and provide interpretations for existing data, allowing it to propose and address new scientific problems. While one may assume that the continued development of AI tools exploiting large-language models, with more data used for training, may lead these systems to learn autonomously, this learning can be accelerated by devising human-assisted strategies to deal with specific tasks. For example, strategies may be implemented for AI tools to emulate the analysis of multivariate data by human experts or in identifying and explaining patterns in temporal series. In addition to generic AI tools, such as Chat AIs, one may conceive personal AI agents, potentially working together, that are likely to serve end users in the near future. In this perspective paper, we discuss the development of this type of agent, focusing on its architecture and requirements. As a proof-of-concept, we exemplify how such an AI agent could work to assist researchers in materials sciences.\"}},{\"_index\":\"pub_med\",\"_id\":\"bxwrBI0BZKko4otC16u0\",\"_score\":0.21694493,\"_source\":{    \"id\": \"38084339\",    \"title\": \"Using Artificial Intelligence to Semi-Quantitate Coronary Calcium as an 'Incidentaloma' on Non-Gated, Non-Contrast CT Scans, A Single-Center Descriptive Study in West Michigan.\",    \"text\": \"Non-gated, non-contrast computed tomography (CT) scans are commonly ordered for a variety of non-cardiac indications, but do not routinely comment on the presence of coronary artery calcium (CAC)/atherosclerotic cardiovascular disease (ASCVD) which is known to correlate with increased cardiovascular risk. Artificial intelligence (AI) algorithms can help detect and quantify CAC/ASCVD which can lead to early treatment and improved outcomes. Using an FDA-approved algorithm (NANOX AI) to measure coronary artery calcium (CAC) on non-gated, non-contrast CT chest, 536 serial scans were evaluated in this single-center retrospective study. Scans were categorized by Agatston scores as normal-mild (<100), moderate (100-399), or severe (\\u2265400). AI results were validated by cardiologist's overread. Patient charts were retrospectively analyzed for clinical characteristics. Of the 527 patients included in this analysis, a total of 258 (48.96%) had moderate-severe disease; of these, 164 patients (63.57%, p< 0.001) had no previous diagnosis of CAD. Of those with moderate-severe disease 135 of 258 (52.33% p=0.006) were not on aspirin and 96 (37.21% p=0.093) were not on statin therapy. Cardiologist interpretation demonstrated 88.76% agreement with AI classification. Machine learning utilized in CT scans obtained for non-cardiac indications can detect and semi-quantitate CAC accurately. Artificial intelligence algorithms can accurately be applied to non-gated, non-contrast CT scans to identify CAC/ASCVD allowing for early medical intervention and improved clinical outcomes.\"}},{\"_index\":\"pub_med\",\"_id\":\"bhwrBI0BZKko4otC16se\",\"_score\":0.20010343,\"_source\":{    \"id\": \"38084492\",    \"title\": \"Advances in breast cancer risk modeling: integrating clinics, imaging, pathology and artificial intelligence for personalized risk assessment.\",    \"text\": \"Breast cancer risk models represent the likelihood of developing breast cancer based on risk factors. They enable personalized interventions to improve screening programs. Radiologists identify mammographic density as a significant risk factor and test new imaging techniques. Pathologists provide data for risk assessment. Clinicians conduct individual risk assessments and adopt prevention strategies for high-risk subjects. Tumor genetic testing guides personalized screening and treatment decisions. Artificial intelligence (AI) in mammography integrates imaging, clinical, genetic and pathological data to develop risk models. Emerging imaging technologies, genetic testing\\u00a0and molecular profiling improve risk model accuracy. The complexity of the disease, limited data availability\\u00a0and model inputs are discussed. A multidisciplinary approach is essential for earlier detection and improved outcomes.\"}},{\"_index\":\"pub_med\",\"_id\":\"aBwrBI0BZKko4otC06u5\",\"_score\":0.17788038,\"_source\":{    \"id\": \"38085285\",    \"title\": \"[Quality indicators artificial intelligence].\",    \"text\": \"The ability of some artificial intelligence (AI) systems to autonomously evolve and the sometimes very limited possibilities to comprehend their decision-making processes present new challenges to our legal system. At a European level this has led to reform efforts, of which the proposal for a\\u00a0European AI regulation promises to close regulatory gaps in existing product safety law through cross-sectoral AI-specific safety requirements. A\\u00a0prerequisite, however, would be that the EU legislator does not only avoid duplications and contradictions with existing safety requirements but also refrains from imposing exaggerated and unattainable demands. If this were to be taken into consideration, the new safety requirements could also be used to specify the undefined standard of care in liability law. Nevertheless, challenges in the context of provability continue to remain unresolved, posing a\\u00a0risk of rendering the legal protection efforts of the aggrieved party ineffective. It remains to be seen whether the EU legislator will address this need for reform with the recently proposed reform of product liability law by the Commission.\"}},{\"_index\":\"pub_med\",\"_id\":\"cxwrBI0BZKko4otC2qsB\",\"_score\":0.17788038,\"_source\":{    \"id\": \"38084046\",    \"title\": \"Enhancing Opioid Bioactivity Predictions through Integration of Ligand-Based and Structure-Based Drug Discovery Strategies with Transfer and Deep Learning Techniques.\",    \"text\": \"The opioid epidemic has cast a shadow over public health, necessitating immediate action to address its devastating consequences. To effectively combat this crisis, it is crucial to discover better opioid drugs with reduced addiction potential. Artificial intelligence-based and other machine learning tools, particularly deep learning models, have garnered significant attention in recent years for their potential to advance drug discovery. However, using these tools poses challenges, especially when training samples are insufficient to achieve adequate prediction performance. In this study, we investigate the effectiveness of transfer learning in building robust deep learning models to enhance ligand bioactivity prediction for each individual opioid receptor (OR) subtype. This is achieved by leveraging knowledge obtained from pretraining a model using supervised learning on a larger data set of bioactivity data combined with ligand-based and structure-based molecular descriptors related to the entire OR subfamily. Our studies hold the potential to advance opioid research by enabling the rapid identification of novel chemical probes with specific bioactivities, which can aid in the study of receptor function and contribute to the future development of improved opioid therapeutics.\"}},{\"_index\":\"pub_med\",\"_id\":\"dxwrBI0BZKko4otC3KtY\",\"_score\":0.17788038,\"_source\":{    \"id\": \"38083788\",    \"title\": \"Modularity Facilitates Classification Performance of Spiking Neural Networks for Decoding Cortical Spike Trains.\",    \"text\": \"After the introduction of recurrence, an important property of the biological brain, spiking neural networks (SNNs) have achieved unprecedented classification performance. But they still cannot outperform many artificial neural networks. Modularity is another crucial feature of the biological brain. It remains unclear if modularity can also improve the performance of SNNs. To investigate this idea, we proposed the modular SNN, and compared its performance with a unif\n",
      "100 15988  100 15945  100    43  1263k   3487 --:--:-- --:--:-- --:--:-- 1301k\n",
      "orm SNN without modularity by employing them to classify cortical spike trains. For the first time, a significant improvement was found in our modular SNN. Further, we probed into the factors influencing the performance of the modular SNN and found: (a). The modular SNN outperformed the uniform SNN more significantly when the number of neurons in the networks increased; (b). The performance of the modular SNNs increased as the number of modules dropped. These preliminary but novel findings suggest that modularity may help develop better artificial intelligence and brain-machine interfaces. Also, the modular SNN may serve as a model for the study of neuronal spike synchrony.\"}},{\"_index\":\"pub_med\",\"_id\":\"eBwrBI0BZKko4otC3Kvq\",\"_score\":0.17788038,\"_source\":{    \"id\": \"38083782\",    \"title\": \"Abnormal Respiratory Sound Identification Using Audio-Spectrogram Vision Transformer.\",    \"text\": \"Respiratory disease, the third leading cause of deaths globally, is considered a high-priority ailment requiring significant research on identification and treatment. Stethoscope-recorded lung sounds and artificial intelligence-powered devices have been used to identify lung disorders and aid specialists in making accurate diagnoses. In this study, audio-spectrogram vision transformer (AS-ViT), a new approach for identifying abnormal respiration sounds, was developed. The sounds of the lungs are converted into visual representations called spectrograms using a technique called short-time Fourier transform (STFT). These images are then analyzed using a model called vision transformer to identify different types of respiratory sounds. The classification was carried out using the ICBHI 2017 database, which includes various types of lung sounds with different frequencies, noise levels, and backgrounds. The proposed AS-ViT method was evaluated using three metrics and achieved 79.1% and 59.8% for 60:40 split ratio and 86.4% and 69.3% for 80:20 split ratio in terms of unweighted average recall and overall scores respectively for respiratory sound detection, surpassing previous state-of-the-art results.\"}},{\"_index\":\"pub_med\",\"_id\":\"ZxwrBI0BZKko4otC06sl\",\"_score\":0.17240967,\"_source\":{    \"id\": \"38085351\",    \"title\": \"Neuro-fuzzy modelling of a continuous stirred tank bioreactor with ceramic membrane technology for treating petroleum refinery effluent: a case study from Assam, India.\",    \"text\": \"A continuous stirred tank bioreactor (CSTB) with cell recycling combined with ceramic membrane technology and inoculated with Rhodococcus opacus PD630 was employed to treat petroleum refinery wastewater for simultaneous chemical oxygen demand (COD) removal and lipid production from the retentate obtained during wastewater treatment. In the present study, the COD removal efficiency (COD<sub>RE</sub>) (%) and lipid concentration (g/L) were predicted using two artificial intelligence models, i.e., an artificial neural network (ANN) and a neuro-fuzzy neural network (NF-NN) with a network topology of 6-25-2 being the best for NF-NN. The results revealed the superiority of NF-NN over ANN in terms of determination coefficient (R<sup>2</sup>), root mean square error (RMSE), and mean absolute percentage error (MAPE). Three learning algorithms were tested with NF-NN; among them, the Bayesian regularization backpropagation (BR-BP) outperformed others. The sensitivity analysis revealed that, if solid retention time and biomass concentrations were maintained between 35 and 75\\u00a0h and 3.0\\u00a0g/L and 3.5\\u00a0g/L, respectively, high COD<sub>RE</sub> (93%) and lipid concentration (2.8\\u00a0g/L) could be obtained consistently.\"}}]}}\n"
     ]
    }
   ],
   "source": [
    "for date in data[0:10]:\n",
    "    print(date)"
   ]
  },
  {
   "cell_type": "code",
   "execution_count": 67,
   "id": "8ff0503c",
   "metadata": {},
   "outputs": [
    {
     "data": {
      "text/plain": [
       "'orm SNN without modularity by employing them to classify cortical spike trains. For the first time, a significant improvement was found in our modular SNN. Further, we probed into the factors influencing the performance of the modular SNN and found: (a). The modular SNN outperformed the uniform SNN more significantly when the number of neurons in the networks increased; (b). The performance of the modular SNNs increased as the number of modules dropped. These preliminary but novel findings suggest that modularity may help develop better artificial intelligence and brain-machine interfaces. Also, the modular SNN may serve as a model for the study of neuronal spike synchrony.\"}},{\"_index\":\"pub_med\",\"_id\":\"eBwrBI0BZKko4otC3Kvq\",\"_score\":0.17788038,\"_source\":{    \"id\": \"38083782\",    \"title\": \"Abnormal Respiratory Sound Identification Using Audio-Spectrogram Vision Transformer.\",    \"text\": \"Respiratory disease, the third leading cause of deaths globally, is considered a high-priority ailment requiring significant research on identification and treatment. Stethoscope-recorded lung sounds and artificial intelligence-powered devices have been used to identify lung disorders and aid specialists in making accurate diagnoses. In this study, audio-spectrogram vision transformer (AS-ViT), a new approach for identifying abnormal respiration sounds, was developed. The sounds of the lungs are converted into visual representations called spectrograms using a technique called short-time Fourier transform (STFT). These images are then analyzed using a model called vision transformer to identify different types of respiratory sounds. The classification was carried out using the ICBHI 2017 database, which includes various types of lung sounds with different frequencies, noise levels, and backgrounds. The proposed AS-ViT method was evaluated using three metrics and achieved 79.1% and 59.8% for 60:40 split ratio and 86.4% and 69.3% for 80:20 split ratio in terms of unweighted average recall and overall scores respectively for respiratory sound detection, surpassing previous state-of-the-art results.\"}},{\"_index\":\"pub_med\",\"_id\":\"ZxwrBI0BZKko4otC06sl\",\"_score\":0.17240967,\"_source\":{    \"id\": \"38085351\",    \"title\": \"Neuro-fuzzy modelling of a continuous stirred tank bioreactor with ceramic membrane technology for treating petroleum refinery effluent: a case study from Assam, India.\",    \"text\": \"A continuous stirred tank bioreactor (CSTB) with cell recycling combined with ceramic membrane technology and inoculated with Rhodococcus opacus PD630 was employed to treat petroleum refinery wastewater for simultaneous chemical oxygen demand (COD) removal and lipid production from the retentate obtained during wastewater treatment. In the present study, the COD removal efficiency (COD<sub>RE</sub>) (%) and lipid concentration (g/L) were predicted using two artificial intelligence models, i.e., an artificial neural network (ANN) and a neuro-fuzzy neural network (NF-NN) with a network topology of 6-25-2 being the best for NF-NN. The results revealed the superiority of NF-NN over ANN in terms of determination coefficient (R<sup>2</sup>), root mean square error (RMSE), and mean absolute percentage error (MAPE). Three learning algorithms were tested with NF-NN; among them, the Bayesian regularization backpropagation (BR-BP) outperformed others. The sensitivity analysis revealed that, if solid retention time and biomass concentrations were maintained between 35 and 75\\\\u00a0h and 3.0\\\\u00a0g/L and 3.5\\\\u00a0g/L, respectively, high COD<sub>RE</sub> (93%) and lipid concentration (2.8\\\\u00a0g/L) could be obtained consistently.\"}}]}}'"
      ]
     },
     "execution_count": 67,
     "metadata": {},
     "output_type": "execute_result"
    }
   ],
   "source": [
    "data[5]"
   ]
  },
  {
   "cell_type": "code",
   "execution_count": 69,
   "id": "6db15bd0",
   "metadata": {},
   "outputs": [],
   "source": [
    "!curl -X GET \"https://localhost:9200/pub_med/_search\" -H 'Content-Type: application/json' -d '{\"query\":{\"term\":{\"text\": \"intelligence\"}}}' 2>/dev/null > response.json"
   ]
  },
  {
   "cell_type": "code",
   "execution_count": 76,
   "id": "8d1c60a6",
   "metadata": {},
   "outputs": [
    {
     "name": "stdout",
     "output_type": "stream",
     "text": [
      "{\"took\":1,\"timed_out\":false,\"_shards\":{\"total\":1,\"successful\":1,\"skipped\":0,\"failed\":0},\"hits\":{\"total\":{\"value\":23,\"relation\":\"eq\"},\"max_score\":1.0,\"hits\":[{\"_index\":\"pub_med\",\"_id\":\"XRyVA40BZKko4otCQKu-\",\"_score\":1.0,\"_source\":{    \"id\": \"38085539\",    \"title\": \"High Seebeck Coefficient Inorganic Ge<sub>15</sub>Ga<sub>10</sub>Te<sub>75</sub> Core/Polymer Cladding Fibers for Respiration and Body Temperature Monitoring.\",    \"text\": \"Wearable thermal sensors based on thermoelectric (TE) materials with high sensitivity and temperature resolution are extensively used in medical diagnosis, human-machine interfaces, and advanced artificial intelligence. However, their development is greatly limited by the lack of materials with both a high Seebeck coefficient and superior anticrystallization ability. Here, a new inorganic amorphous TE material, Ge<sub>15</sub>Ga<sub>10</sub>Te<sub>75</sub>, with a high Seebeck coefficient of 1109 \\u03bcV/K is reported. Owing to the large difference between the glass-transition temperature and initial crystallization temperature, Ge<sub>15</sub>Ga<sub>10</sub>Te<sub>75</sub> strongly inhibits crystallization during fiber fabrication by thermally codrawing a precast rod comprising a Ge<sub>15</sub>Ga<sub>10</sub>Te<sub>75</sub> core and PP polymer cladding. The temperature difference can be effectively transduced into electrical signals to achieve TE fiber thermal sensing with an accurate temperature resolution of 0.03 K and a fast response time of 4 s. It is important to note that after the 1.5 and 5.5 K temperatures changed repeatedly, the TE properties of the fiber demonstrated high stability. Based on the Seebeck effect and superior flexibility of the fibers, they can be integrated into a mask and wearable fabric for human respiration and body temperature monitoring. The superior thermal sensing performance of the TE fibers together with their natural flexibility and scalable fabrication endow them with promising applications in health-monitoring and intelligent medical systems.\"}},{\"_index\":\"pub_med\",\"_id\":\"ZRwNBI0BZKko4otCxqts\",\"_score\":1.0,\"_source\":{    \"id\": \"38085539\",    \"title\": \"High Seebeck Coefficient Inorganic Ge<sub>15</sub>Ga<sub>10</sub>Te<sub>75</sub> Core/Polymer Cladding Fibers for Respiration and Body Temperature Monitoring.\",    \"text\": \"Wearable thermal sensors based on thermoelectric (TE) materials with high sensitivity and temperature resolution are extensively used in medical diagnosis, human-machine interfaces, and advanced artificial intelligence. However, their development is greatly limited by the lack of materials with both a high Seebeck coefficient and superior anticrystallization ability. Here, a new inorganic amorphous TE material, Ge<sub>15</sub>Ga<sub>10</sub>Te<sub>75</sub>, with a high Seebeck coefficient of 1109 \\u03bcV/K is reported. Owing to the large difference between the glass-transition temperature and initial crystallization temperature, Ge<sub>15</sub>Ga<sub>10</sub>Te<sub>75</sub> strongly inhibits crystallization during fiber fabrication by thermally codrawing a precast rod comprising a Ge<sub>15</sub>Ga<sub>10</sub>Te<sub>75</sub> core and PP polymer cladding. The temperature difference can be effectively transduced into electrical signals to achieve TE fiber thermal sensing with an accurate temperature resolution of 0.03 K and a fast response time of 4 s. It is important to note that after the 1.5 and 5.5 K temperatures changed repeatedly, the TE properties of the fiber demonstrated high stability. Based on the Seebeck effect and superior flexibility of the fibers, they can be integrated into a mask and wearable fabric for human respiration and body temperature monitoring. The superior thermal sensing performance of the TE fibers together with their natural flexibility and scalable fabrication endow them with promising applications in health-monitoring and intelligent medical systems.\"}},{\"_index\":\"pub_med\",\"_id\":\"10\",\"_score\":1.0,\"_source\":{    \"id\": \"38085539\",    \"title\": \"High Seebeck Coefficient Inorganic Ge<sub>15</sub>Ga<sub>10</sub>Te<sub>75</sub> Core/Polymer Cladding Fibers for Respiration and Body Temperature Monitoring.\",    \"text\": \"Wearable thermal sensors based on thermoelectric (TE) materials with high sensitivity and temperature resolution are extensively used in medical diagnosis, human-machine interfaces, and advanced artificial intelligence. However, their development is greatly limited by the lack of materials with both a high Seebeck coefficient and superior anticrystallization ability. Here, a new inorganic amorphous TE material, Ge<sub>15</sub>Ga<sub>10</sub>Te<sub>75</sub>, with a high Seebeck coefficient of 1109 \\u03bcV/K is reported. Owing to the large difference between the glass-transition temperature and initial crystallization temperature, Ge<sub>15</sub>Ga<sub>10</sub>Te<sub>75</sub> strongly inhibits crystallization during fiber fabrication by thermally codrawing a precast rod comprising a Ge<sub>15</sub>Ga<sub>10</sub>Te<sub>75</sub> core and PP polymer cladding. The temperature difference can be effectively transduced into electrical signals to achieve TE fiber thermal sensing with an accurate temperature resolution of 0.03 K and a fast response time of 4 s. It is important to note that after the 1.5 and 5.5 K temperatures changed repeatedly, the TE properties of the fiber demonstrated high stability. Based on the Seebeck effect and superior flexibility of the fibers, they can be integrated into a mask and wearable fabric for human respiration and body temperature monitoring. The superior thermal sensing performance of the TE fibers together with their natural flexibility and scalable fabrication endow them with promising applications in health-monitoring and intelligent medical systems.\"}},{\"_index\":\"pub_med\",\"_id\":\"ZhwrBI0BZKko4otC0quQ\",\"_score\":1.0,\"_source\":{    \"id\": \"38085539\",    \"title\": \"High Seebeck Coefficient Inorganic Ge<sub>15</sub>Ga<sub>10</sub>Te<sub>75</sub> Core/Polymer Cladding Fibers for Respiration and Body Temperature Monitoring.\",    \"text\": \"Wearable thermal sensors based on thermoelectric (TE) materials with high sensitivity and temperature resolution are extensively used in medical diagnosis, human-machine interfaces, and advanced artificial intelligence. However, their development is greatly limited by the lack of materials with both a high Seebeck coefficient and superior anticrystallization ability. Here, a new inorganic amorphous TE material, Ge<sub>15</sub>Ga<sub>10</sub>Te<sub>75</sub>, with a high Seebeck coefficient of 1109 \\u03bcV/K is reported. Owing to the large difference between the glass-transition temperature and initial crystallization temperature, Ge<sub>15</sub>Ga<sub>10</sub>Te<sub>75</sub> strongly inhibits crystallization during fiber fabrication by thermally codrawing a precast rod comprising a Ge<sub>15</sub>Ga<sub>10</sub>Te<sub>75</sub> core and PP polymer cladding. The temperature difference can be effectively transduced into electrical signals to achieve TE fiber thermal sensing with an accurate temperature resolution of 0.03 K and a fast response time of 4 s. It is important to note that after the 1.5 and 5.5 K temperatures changed repeatedly, the TE properties of the fiber demonstrated high stability. Based on the Seebeck effect and superior flexibility of the fibers, they can be integrated into a mask and wearable fabric for human respiration and body temperature monitoring. The superior thermal sensing performance of the TE fibers together with their natural flexibility and scalable fabrication endow them with promising applications in health-monitoring and intelligent medical systems.\"}},{\"_index\":\"pub_med\",\"_id\":\"ZxwrBI0BZKko4otC06sl\",\"_score\":1.0,\"_source\":{    \"id\": \"38085351\",    \"title\": \"Neuro-fuzzy modelling of a continuous stirred tank bioreactor with ceramic membrane technology for treating petroleum refinery effluent: a case study from Assam, India.\",    \"text\": \"A continuous stirred tank bioreactor (CSTB) with cell recycling combined with ceramic membrane technology and inoculated with Rhodococcus opacus PD630 was employed to treat petroleum refinery wastewater for simultaneous chemical oxygen demand (COD) removal and lipid production from the retentate obtained during wastewater treatment. In the present study, the COD removal efficiency (COD<sub>RE</sub>) (%) and lipid concentration (g/L) were predicted using two artificial intelligence models, i.e., an artificial neural network (ANN) and a neuro-fuzzy neural network (NF-NN) with a network topology of 6-25-2 being the best for NF-NN. The results revealed the superiority of NF-NN over ANN in terms of determination coefficient (R<sup>2</sup>), root mean square error (RMSE), and mean absolute percentage error (MAPE). Three learning algorithms were tested with NF-NN; among them, the Bayesian regularization backpropagation (BR-BP) outperformed others. The sensitivity analysis revealed that, if solid retention time and biomass concentrations were maintained between 35 and 75\\u00a0h and 3.0\\u00a0g/L and 3.5\\u00a0g/L, respectively, high COD<sub>RE</sub> (93%) and lipid concentration (2.8\\u00a0g/L) could be obtained consistently.\"}},{\"_index\":\"pub_med\",\"_id\":\"aBwrBI0BZKko4otC06u5\",\"_score\":1.0,\"_source\":{    \"id\": \"38085285\",    \"title\": \"[Quality indicators artificial intelligence].\",    \"text\": \"The ability of some artificial intelligence (AI) systems to autonomously evolve and the sometimes very limited possibilities to comprehend their decision-making processes present new challenges to our legal system. At a European level this has led to reform efforts, of which the proposal for a\\u00a0European AI regulation promises to close regulatory gaps in existing product safety law through cross-sectoral AI-specific safety requirements. A\\u00a0prerequisite, however, would be that the EU legislator does not only avoid duplications and contradictions with existing safety requirements but also refrains from imposing exaggerated and unattainable demands. If this were to be taken into consideration, the new safety requirements could also be used to specify the undefined standard of care in liability law. Nevertheless, challenges in the context of provability continue to remain unresolved, posing a\\u00a0risk of rendering the legal protection efforts of the aggrieved party ineffective. It remains to be seen whether the EU legislator will address this need for reform with the recently proposed reform of product liability law by the Commission.\"}},{\"_index\":\"pub_med\",\"_id\":\"aRwrBI0BZKko4otC1KtH\",\"_score\":1.0,\"_source\":{    \"id\": \"38085134\",    \"title\": \"Ultrafast Dynamic Contrast-Enhanced MRI of the Breast: From Theory to Practice.\",    \"text\": \"The development of ultrafast dynamic contrast-enhanced (UF-DCE) MRI has occurred in tandem with fast MRI scan techniques, particularly view-sharing and compressed sensing. Understanding the strengths of each technique and optimizing the relevant parameters are essential to their implementation. UF-DCE MRI has now shifted from research protocols to becoming a part of clinical scan protocols for breast cancer. UF-DCE MRI is expected to compensate for the low specificity of abbreviated MRI by adding kinetic information from the upslope of the time-intensity curve. Because kinetic information from UF-DCE MRI is obtained from the shape and timing of the initial upslope, various new kinetic parameters have been proposed. These parameters may be associated with receptor status or prognostic markers for breast cancer. In addition to the diagnosis of malignant lesions, more emphasis has been placed on predicting and evaluating treatment response because hyper-vascularity is linked to the aggressiveness of breast cancers. In clinical practice, it is important to note that breast lesion images obtained from UF-DCE MRI are slightly different from those obtained by conventional DCE MRI in terms of morphology. A major benefit of using UF-DCE MRI is avoidance of the marked or moderate background parenchymal enhancement (BPE) that can obscure the target enhancing lesions. BPE is less prominent in the earlier phases of UF-DCE MRI, which offers better lesion-to-noise contrast. The excellent contrast of early-enhancing vessels provides a key to understanding the detailed pathological structure of tumor-associated vessels. UF-DCE MRI is normally accompanied by a large volume of image data for which automated/artificial intelligence-based processing is expected to be useful. In this review, both the theoretical and practical aspects of UF-DCE MRI are summarized. EVIDENCE LEVEL: 5 TECHNICAL EFFICACY: Stage 2.\"}},{\"_index\":\"pub_med\",\"_id\":\"ahwrBI0BZKko4otC1KvP\",\"_score\":1.0,\"_source\":{    \"id\": \"38085079\",    \"title\": \"Using AI to Improve Radiologist Performance in Detection of Abnormalities on Chest Radiographs.\",    \"text\": \"Background Chest radiography remains the most common radiologic examination, and interpretation of its results can be difficult. Purpose To explore the potential benefit of artificial intelligence (AI) assistance in the detection of thoracic abnormalities on chest radiographs by evaluating the performance of radiologists with different levels of expertise, with and without AI assistance. Materials and Methods Patients who underwent both chest radiography and thoracic CT within 72 hours between January 2010 and December 2020 in a French public hospital were screened retrospectively. Radiographs were randomly included until reaching 500 radiographs, with about 50% of radiographs having abnormal findings. A senior thoracic radiologist annotated the radiographs for five abnormalities (pneumothorax, pleural effusion, consolidation, mediastinal and hilar mass, lung nodule) based on the corresponding CT results (ground truth). A total of 12 readers (four thoracic radiologists, four general radiologists, four radiology residents) read half the radiographs without AI and half the radiographs with AI (ChestView; Gleamer). Changes in sensitivity and specificity were measured using paired <i>t</i> tests. Results The study included 500 patients (mean age, 54 years \\u00b1 19 [SD]; 261 female, 239 male), with 522 abnormalities visible on 241 radiographs. On average, for all readers, AI use resulted in an absolute increase in sensitivity of 26% (95% CI: 20, 32), 14% (95% CI: 11, 17), 12% (95% CI: 10, 14), 8.5% (95% CI: 6, 11), and 5.9% (95% CI: 4, 8) for pneumothorax, consolidation, nodule, pleural effusion, and mediastinal and hilar mass, respectively (<i>P</i> < .001). Specificity increased with AI assistance (3.9% [95% CI: 3.2, 4.6], 3.7% [95% CI: 3, 4.4], 2.9% [95% CI: 2.3, 3.5], and 2.1% [95% CI: 1.6, 2.6] for pleural effusion, mediastinal and hilar mass, consolidation, and nodule, respectively), except in the diagnosis of pneumothorax (-0.2%; 95% CI: -0.36, -0.04; <i>P</i> = .01). The mean reading time was 81 seconds without AI versus 56 seconds with AI (31% decrease, <i>P</i> < .001). Conclusion AI-assisted chest radiography interpretation resulted in absolute increases in sensitivity for all radiologists of various levels of expertise and reduced the reading times; specificity increased with AI, except in the diagnosis of pneumothorax. \\u00a9 RSNA, 2023 <i>Supplemental material is available for this article.</i>\"}},{\"_index\":\"pub_med\",\"_id\":\"axwrBI0BZKko4otC1atk\",\"_score\":1.0,\"_source\":{    \"id\": \"38084894\",    \"title\": \"Prognostic Value of a Novel Artificial Intelligence-Based Coronary Computed Tomography Angiography-Derived Ischemia Algorithm for Patients with Suspected Coronary Artery Disease.\",    \"text\": \"Coronary computed tomography angiography (CTA) imaging is used to diagnose patients with suspected coronary artery disease (CAD). A novel artificial-intelligence-guided quantitative computed tomography ischemia algorithm (AI-QCTischemia) aims to identify myocardial ischemia directly from CTA images and may be helpful to improve risk stratification. The aims were 1) the prognostic value of AI-QCTischemia among symptomatic patients with suspected CAD entering diagnostic imaging with coronary CTA, and 2) the prognostic value of AI-QCTischemia separately among patients with no/non-obstructive CAD (\\u226450% visual diameter stenosis) and obstructive CAD (>50% visual diameter stenosis). For this cohort study, AI-QCTischemia was calculated by blinded analysts among patients with suspected CAD undergoing coronary CTA. The primary endpoint was the composite of death, myocardial infarction (MI), or unstable angina pectoris (uAP) (median follow-up 6.9 years). 1880/2271 (83%) patients were analyzable by AI-QCTischemia. Patients with an abnormal AI-QCTischemia result (n\\u2009=\\u2009509/1880) vs. patients with a normal AI-QCTischemia result (n\\u2009=\\u20091371/1880) had significantly higher crude and adjusted rates of the primary endpoint (HRadj 1.96,95% CI 1.46-2.63, p\\u2009<\\u20090.001; covariates: age/sex/hypertension/diabetes/smoking/typical angina). An abnormal AI-QCTischemia result was associated with significantly higher crude and adjusted rates of the primary endpoint among patients with no/non-obstructive CAD (n\\u2009=\\u20091373/1847) (HRadj 1.81,95% CI 1.09-3.00, p\\u2009=\\u20090.022), but not among those with obstructive CAD (n\\u2009=\\u2009474/1847) (HRadj 1.26,95% CI 0.75-2.12, p\\u2009=\\u20090.386) (p-interaction\\u2009=\\u20090.032). Among patients with suspected CAD, an abnormal AI-QCTischemia result was associated with a 2-fold increased adjusted rate of long-term death, MI, or uAP. AI-QCTischemia may be useful to improve risk stratification, especially among patients with no/non-obstructive CAD on coronary CTA.\"}},{\"_index\":\"pub_med\",\"_id\":\"bBwrBI0BZKko4otC1av5\",\"_score\":1.0,\"_source\":{    \"id\": \"38084803\",    \"title\": \"The ASQ did not predict low IQ scores when children born VPT were six years.\",    \"text\": \"There is a need for methods that can provide valid assessment tools in a follow-up programme without great financial costs. This study assessed the accuracy of the 60-month Ages and Stages Questionnaire as a screening tool to predict a low intelligence quotient score at 6\\u2009years in children born very preterm. Totally, 54 children participated in a six-year follow-up study, which included an intelligence quotient test at 6\\u2009years of age and a 60-month Ages and Stages Questionnaire at four and a half or 5\\u2009years of age at respond. We used the receiver operating characteristic curve and evaluated the optimal cut-off score to predict a low intelligence quotient score. At four and a half years, the optimal cut-off value for predicting a low intelligence quotient score was 242, with a sensitivity of 67% and a specificity of 59%. At 5\\u2009years, only one child had a low intelligence quotient score, and the analysis was not performed. Our results did not support the use of the 60-month Ages and Stages Questionnaire as a valuable screening tool to predict a low intelligence quotient score in children born very preterm at 6\\u2009years of age.\"}}]}}"
     ]
    }
   ],
   "source": [
    "!curl -X GET \"https://localhost:9200/pub_med/_search\" -ku admin:admin -H 'Content-Type: application/json'"
   ]
  },
  {
   "cell_type": "code",
   "execution_count": 77,
   "id": "599c37e6",
   "metadata": {},
   "outputs": [
    {
     "name": "stdout",
     "output_type": "stream",
     "text": [
      "  % Total    % Received % Xferd  Average Speed   Time    Time     Time  Current\r\n",
      "                                 Dload  Upload   Total   Spent    Left  Speed\r\n",
      "\r",
      "  0     0    0     0    0     0      0      0 --:--:-- --:--:-- --:--:--     0\r",
      "100 15988  100 15945  100    43  1161k   3207 --:--:-- --:--:-- --:--:-- 1201k\r\n"
     ]
    }
   ],
   "source": [
    "!curl -X GET \"https://localhost:9200/pub_med/_search\" -ku admin:admin -d '{\"query\":{\"term\":{\"text\": \"intelligence\"}}}' -H 'Content-Type: application/json' > response.json"
   ]
  },
  {
   "cell_type": "code",
   "execution_count": 78,
   "id": "9294e462",
   "metadata": {},
   "outputs": [
    {
     "name": "stdout",
     "output_type": "stream",
     "text": [
      "{'id': '38084803', 'title': 'The ASQ did not predict low IQ scores when children born VPT were six years.', 'text': 'There is a need for methods that can provide valid assessment tools in a follow-up programme without great financial costs. This study assessed the accuracy of the 60-month Ages and Stages Questionnaire as a screening tool to predict a low intelligence quotient score at 6\\u2009years in children born very preterm. Totally, 54 children participated in a six-year follow-up study, which included an intelligence quotient test at 6\\u2009years of age and a 60-month Ages and Stages Questionnaire at four and a half or 5\\u2009years of age at respond. We used the receiver operating characteristic curve and evaluated the optimal cut-off score to predict a low intelligence quotient score. At four and a half years, the optimal cut-off value for predicting a low intelligence quotient score was 242, with a sensitivity of 67% and a specificity of 59%. At 5\\u2009years, only one child had a low intelligence quotient score, and the analysis was not performed. Our results did not support the use of the 60-month Ages and Stages Questionnaire as a valuable screening tool to predict a low intelligence quotient score in children born very preterm at 6\\u2009years of age.'}\n",
      "{'id': '38084030', 'title': 'Intelligence-Dependent Differential Effects of Media Exposure on Executive Function Changes in Children: A Population-Based Cohort Study With a Longitudinal Design.', 'text': \"Excessive media use is known to be associated with executive dysfunction in children, but it's unclear whether this exposure can lead to long-term changes of executive function. This study aimed to investigate the association between media exposure and longitudinal changes in executive function within a population-based study, while considering the potential influence of intelligence. This study used data from 1,209 participants in the Panel Korea Study for Children. The children's media exposure was measured at ages 7 and 8, and executive function was evaluated annually from ages 7 to 10 using the Executive Function Difficulty Screening Questionnaire. Participants were grouped by media exposure level (low, medium, or high), and longitudinal changes in executive function were analyzed using linear mixed effects models. Subgroup analysis was conducted to investigate how executive function changes varied based on intelligence within each media exposure group. Children with high media exposure (n = 97) had severer executive function difficulties than those with low (n = 141) or medium (n = 971) exposure in all waves. The high exposure group demonstrated persistent higher executive function difficulties up to age 10 after controlling for child gender, intelligence, parental education level and maternal depression. Children with intelligence quotient (IQ) ≤ 100 in the medium to high media exposure group had significantly more severe executive function difficulties than those with IQ > 100. This study provided evidence of a longitudinal negative association between media exposure and executive function. The findings suggest that excessive media exposure may lead to long-term changes in executive function in children and highlight the importance of implementing targeted interventions and educational strategies to mitigate the potential negative effects of excessive media use, particularly for children with lower cognitive abilities.\"}\n",
      "{'id': '38084508', 'title': 'Artificial Intelligence Agents for Materials Sciences.', 'text': 'The artificial intelligence (AI) tools based on large-language models may serve as a demonstration that we are reaching a groundbreaking new paradigm in which machines themselves will generate knowledge autonomously. This statement is based on the assumption that the ability to master natural languages is the ultimate frontier for this new paradigm and perhaps an essential step to achieving the so-called general artificial intelligence. Autonomous knowledge generation implies that a machine will be able, for instance, to retrieve and understand the contents of the scientific literature and provide interpretations for existing data, allowing it to propose and address new scientific problems. While one may assume that the continued development of AI tools exploiting large-language models, with more data used for training, may lead these systems to learn autonomously, this learning can be accelerated by devising human-assisted strategies to deal with specific tasks. For example, strategies may be implemented for AI tools to emulate the analysis of multivariate data by human experts or in identifying and explaining patterns in temporal series. In addition to generic AI tools, such as Chat AIs, one may conceive personal AI agents, potentially working together, that are likely to serve end users in the near future. In this perspective paper, we discuss the development of this type of agent, focusing on its architecture and requirements. As a proof-of-concept, we exemplify how such an AI agent could work to assist researchers in materials sciences.'}\n",
      "{'id': '38084339', 'title': \"Using Artificial Intelligence to Semi-Quantitate Coronary Calcium as an 'Incidentaloma' on Non-Gated, Non-Contrast CT Scans, A Single-Center Descriptive Study in West Michigan.\", 'text': \"Non-gated, non-contrast computed tomography (CT) scans are commonly ordered for a variety of non-cardiac indications, but do not routinely comment on the presence of coronary artery calcium (CAC)/atherosclerotic cardiovascular disease (ASCVD) which is known to correlate with increased cardiovascular risk. Artificial intelligence (AI) algorithms can help detect and quantify CAC/ASCVD which can lead to early treatment and improved outcomes. Using an FDA-approved algorithm (NANOX AI) to measure coronary artery calcium (CAC) on non-gated, non-contrast CT chest, 536 serial scans were evaluated in this single-center retrospective study. Scans were categorized by Agatston scores as normal-mild (<100), moderate (100-399), or severe (≥400). AI results were validated by cardiologist's overread. Patient charts were retrospectively analyzed for clinical characteristics. Of the 527 patients included in this analysis, a total of 258 (48.96%) had moderate-severe disease; of these, 164 patients (63.57%, p< 0.001) had no previous diagnosis of CAD. Of those with moderate-severe disease 135 of 258 (52.33% p=0.006) were not on aspirin and 96 (37.21% p=0.093) were not on statin therapy. Cardiologist interpretation demonstrated 88.76% agreement with AI classification. Machine learning utilized in CT scans obtained for non-cardiac indications can detect and semi-quantitate CAC accurately. Artificial intelligence algorithms can accurately be applied to non-gated, non-contrast CT scans to identify CAC/ASCVD allowing for early medical intervention and improved clinical outcomes.\"}\n",
      "{'id': '38084492', 'title': 'Advances in breast cancer risk modeling: integrating clinics, imaging, pathology and artificial intelligence for personalized risk assessment.', 'text': 'Breast cancer risk models represent the likelihood of developing breast cancer based on risk factors. They enable personalized interventions to improve screening programs. Radiologists identify mammographic density as a significant risk factor and test new imaging techniques. Pathologists provide data for risk assessment. Clinicians conduct individual risk assessments and adopt prevention strategies for high-risk subjects. Tumor genetic testing guides personalized screening and treatment decisions. Artificial intelligence (AI) in mammography integrates imaging, clinical, genetic and pathological data to develop risk models. Emerging imaging technologies, genetic testing\\xa0and molecular profiling improve risk model accuracy. The complexity of the disease, limited data availability\\xa0and model inputs are discussed. A multidisciplinary approach is essential for earlier detection and improved outcomes.'}\n",
      "{'id': '38085285', 'title': '[Quality indicators artificial intelligence].', 'text': 'The ability of some artificial intelligence (AI) systems to autonomously evolve and the sometimes very limited possibilities to comprehend their decision-making processes present new challenges to our legal system. At a European level this has led to reform efforts, of which the proposal for a\\xa0European AI regulation promises to close regulatory gaps in existing product safety law through cross-sectoral AI-specific safety requirements. A\\xa0prerequisite, however, would be that the EU legislator does not only avoid duplications and contradictions with existing safety requirements but also refrains from imposing exaggerated and unattainable demands. If this were to be taken into consideration, the new safety requirements could also be used to specify the undefined standard of care in liability law. Nevertheless, challenges in the context of provability continue to remain unresolved, posing a\\xa0risk of rendering the legal protection efforts of the aggrieved party ineffective. It remains to be seen whether the EU legislator will address this need for reform with the recently proposed reform of product liability law by the Commission.'}\n",
      "{'id': '38084046', 'title': 'Enhancing Opioid Bioactivity Predictions through Integration of Ligand-Based and Structure-Based Drug Discovery Strategies with Transfer and Deep Learning Techniques.', 'text': 'The opioid epidemic has cast a shadow over public health, necessitating immediate action to address its devastating consequences. To effectively combat this crisis, it is crucial to discover better opioid drugs with reduced addiction potential. Artificial intelligence-based and other machine learning tools, particularly deep learning models, have garnered significant attention in recent years for their potential to advance drug discovery. However, using these tools poses challenges, especially when training samples are insufficient to achieve adequate prediction performance. In this study, we investigate the effectiveness of transfer learning in building robust deep learning models to enhance ligand bioactivity prediction for each individual opioid receptor (OR) subtype. This is achieved by leveraging knowledge obtained from pretraining a model using supervised learning on a larger data set of bioactivity data combined with ligand-based and structure-based molecular descriptors related to the entire OR subfamily. Our studies hold the potential to advance opioid research by enabling the rapid identification of novel chemical probes with specific bioactivities, which can aid in the study of receptor function and contribute to the future development of improved opioid therapeutics.'}\n",
      "{'id': '38083788', 'title': 'Modularity Facilitates Classification Performance of Spiking Neural Networks for Decoding Cortical Spike Trains.', 'text': 'After the introduction of recurrence, an important property of the biological brain, spiking neural networks (SNNs) have achieved unprecedented classification performance. But they still cannot outperform many artificial neural networks. Modularity is another crucial feature of the biological brain. It remains unclear if modularity can also improve the performance of SNNs. To investigate this idea, we proposed the modular SNN, and compared its performance with a uniform SNN without modularity by employing them to classify cortical spike trains. For the first time, a significant improvement was found in our modular SNN. Further, we probed into the factors influencing the performance of the modular SNN and found: (a). The modular SNN outperformed the uniform SNN more significantly when the number of neurons in the networks increased; (b). The performance of the modular SNNs increased as the number of modules dropped. These preliminary but novel findings suggest that modularity may help develop better artificial intelligence and brain-machine interfaces. Also, the modular SNN may serve as a model for the study of neuronal spike synchrony.'}\n",
      "{'id': '38083782', 'title': 'Abnormal Respiratory Sound Identification Using Audio-Spectrogram Vision Transformer.', 'text': 'Respiratory disease, the third leading cause of deaths globally, is considered a high-priority ailment requiring significant research on identification and treatment. Stethoscope-recorded lung sounds and artificial intelligence-powered devices have been used to identify lung disorders and aid specialists in making accurate diagnoses. In this study, audio-spectrogram vision transformer (AS-ViT), a new approach for identifying abnormal respiration sounds, was developed. The sounds of the lungs are converted into visual representations called spectrograms using a technique called short-time Fourier transform (STFT). These images are then analyzed using a model called vision transformer to identify different types of respiratory sounds. The classification was carried out using the ICBHI 2017 database, which includes various types of lung sounds with different frequencies, noise levels, and backgrounds. The proposed AS-ViT method was evaluated using three metrics and achieved 79.1% and 59.8% for 60:40 split ratio and 86.4% and 69.3% for 80:20 split ratio in terms of unweighted average recall and overall scores respectively for respiratory sound detection, surpassing previous state-of-the-art results.'}\n",
      "{'id': '38085351', 'title': 'Neuro-fuzzy modelling of a continuous stirred tank bioreactor with ceramic membrane technology for treating petroleum refinery effluent: a case study from Assam, India.', 'text': 'A continuous stirred tank bioreactor (CSTB) with cell recycling combined with ceramic membrane technology and inoculated with Rhodococcus opacus PD630 was employed to treat petroleum refinery wastewater for simultaneous chemical oxygen demand (COD) removal and lipid production from the retentate obtained during wastewater treatment. In the present study, the COD removal efficiency (COD<sub>RE</sub>) (%) and lipid concentration (g/L) were predicted using two artificial intelligence models, i.e., an artificial neural network (ANN) and a neuro-fuzzy neural network (NF-NN) with a network topology of 6-25-2 being the best for NF-NN. The results revealed the superiority of NF-NN over ANN in terms of determination coefficient (R<sup>2</sup>), root mean square error (RMSE), and mean absolute percentage error (MAPE). Three learning algorithms were tested with NF-NN; among them, the Bayesian regularization backpropagation (BR-BP) outperformed others. The sensitivity analysis revealed that, if solid retention time and biomass concentrations were maintained between 35 and 75\\xa0h and 3.0\\xa0g/L and 3.5\\xa0g/L, respectively, high COD<sub>RE</sub> (93%) and lipid concentration (2.8\\xa0g/L) could be obtained consistently.'}\n"
     ]
    }
   ],
   "source": [
    "import json\n",
    "\n",
    "# Read the content of the response.json file\n",
    "with open('response.json', 'r') as file:\n",
    "    response_content = file.read()\n",
    "\n",
    "# Parse the JSON content\n",
    "data = json.loads(response_content)\n",
    "\n",
    "# Process the data as needed\n",
    "hits = data.get('hits', {}).get('hits', [])\n",
    "for hit in hits:\n",
    "    source = hit.get('_source', {})\n",
    "    print(source)  # or do something else with the data\n"
   ]
  },
  {
   "cell_type": "markdown",
   "id": "c67325c0",
   "metadata": {},
   "source": [
    "# Python"
   ]
  },
  {
   "cell_type": "code",
   "execution_count": null,
   "id": "30164932",
   "metadata": {},
   "outputs": [],
   "source": [
    "!pip install opensearch-py"
   ]
  },
  {
   "cell_type": "code",
   "execution_count": null,
   "id": "7d7e706c",
   "metadata": {},
   "outputs": [],
   "source": [
    "from opensearchpy import OpenSearch"
   ]
  },
  {
   "cell_type": "code",
   "execution_count": null,
   "id": "244aeb17",
   "metadata": {},
   "outputs": [],
   "source": [
    "host = 'localhost'\n",
    "port = 9200\n",
    "\n",
    "# Create the client with SSL/TLS and hostname verification disabled.\n",
    "client = OpenSearch(\n",
    "    hosts = [{'host': host, 'port': port}],\n",
    "    http_compress = True, # enables gzip compression for request bodies\n",
    "    use_ssl = False,\n",
    "    verify_certs = False,\n",
    "    ssl_assert_hostname = False,\n",
    "    ssl_show_warn = False\n",
    ")"
   ]
  },
  {
   "cell_type": "code",
   "execution_count": null,
   "id": "eff647f4",
   "metadata": {},
   "outputs": [],
   "source": [
    "index_name = 'python-test-index'\n",
    "index_body = {\n",
    "  'settings': {\n",
    "    'index': {\n",
    "      'number_of_shards': 4\n",
    "    }\n",
    "  }\n",
    "}\n",
    "\n",
    "response = client.indices.create(index_name, body=index_body)"
   ]
  },
  {
   "cell_type": "code",
   "execution_count": null,
   "id": "792705a0",
   "metadata": {},
   "outputs": [],
   "source": []
  }
 ],
 "metadata": {
  "kernelspec": {
   "display_name": "npl_env",
   "language": "python",
   "name": "npl_env"
  },
  "language_info": {
   "codemirror_mode": {
    "name": "ipython",
    "version": 3
   },
   "file_extension": ".py",
   "mimetype": "text/x-python",
   "name": "python",
   "nbconvert_exporter": "python",
   "pygments_lexer": "ipython3",
   "version": "3.9.18"
  }
 },
 "nbformat": 4,
 "nbformat_minor": 5
}
