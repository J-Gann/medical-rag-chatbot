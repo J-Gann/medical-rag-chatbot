{
 "cells": [
  {
   "cell_type": "code",
   "execution_count": 1,
   "metadata": {},
   "outputs": [
    {
     "name": "stderr",
     "output_type": "stream",
     "text": [
      "/home/l0gically/miniconda3/envs/HDHW/lib/python3.11/site-packages/pinecone/data/index.py:1: TqdmWarning: IProgress not found. Please update jupyter and ipywidgets. See https://ipywidgets.readthedocs.io/en/stable/user_install.html\n",
      "  from tqdm.autonotebook import tqdm\n"
     ]
    }
   ],
   "source": [
    "import torch\n",
    "from pinecone import Pinecone\n",
    "from sentence_transformers import SentenceTransformer\n",
    "from Bio import Medline\n",
    "import ollama\n",
    "from fastapi import FastAPI\n",
    "import uvicorn\n",
    "\n",
    "if torch.cuda.is_available():\n",
    "  device = \"cuda:0\"\n",
    "else:\n",
    "  device = \"cpu\"\n",
    "device\n",
    "\n",
    "records = {}\n",
    "missed = 0\n",
    "\n"
   ]
  },
  {
   "cell_type": "code",
   "execution_count": 11,
   "metadata": {},
   "outputs": [],
   "source": [
    "\"\"\"\n",
    "Add the whole path if pubmed_data is not detectet\n",
    "e.g. /home/paperspace/QA-INLPT-WS2023/chat-ui-rag/src/lib/server/rag/pinecone/pubmed_data\n",
    "\"\"\"\n",
    "PUBMED_PATH = \"/home/l0gically/QA-INLPT-WS2023/chat-ui-rag/src/lib/server/rag/pinecone/pubmed_data\"\n",
    "with open(PUBMED_PATH) as stream:\n",
    "    for article in Medline.parse(stream):\n",
    "\n",
    "        if not \"PMID\" in article:\n",
    "            missed += 1\n",
    "            continue\n",
    "\n",
    "        if not \"TI\" in article:\n",
    "            missed += 1\n",
    "            continue\n",
    "\n",
    "        if not \"FAU\" in article:\n",
    "            missed += 1\n",
    "            continue\n",
    "\n",
    "        if not \"DP\" in article:\n",
    "            missed += 1\n",
    "            continue\n",
    "\n",
    "        if not \"AB\" in article:\n",
    "            missed += 1\n",
    "            continue\n",
    "\n",
    "        if not \"SO\" in article:\n",
    "            missed += 1\n",
    "            continue\n",
    "        \n",
    "        records[article[\"PMID\"]] = article\n",
    "\n",
    "model = SentenceTransformer(\"sentence-transformers/all-mpnet-base-v2\")\n",
    "\n",
    "index_name = 'pubmed'\n",
    "pinecone = Pinecone(api_key=\"7377f10c-e728-4408-b2a6-3ac28daf468f\")\n",
    "index = pinecone.Index(index_name)\n",
    "\n",
    "def retrieve_documents(question):\n",
    "    results = index.query(vector=model.encode([question])[0].tolist(), top_k=1)\n",
    "    return [(res[\"id\"],res[\"score\"]) for res in results.matches]\n"
   ]
  },
  {
   "cell_type": "code",
   "execution_count": 14,
   "metadata": {},
   "outputs": [],
   "source": [
    "def generate(question: str):\n",
    "    documents = retrieve_documents(question)\n",
    "    #a,b = documents[0]\n",
    "    #print(records[a])\n",
    "    return {\"answer\": [f\"DOCUMENT-ID: {records[id]['PMID']}\\n FULL-AUTHOR: {records[id]['FAU']}\\n PUBLICATION-DATE: {records[id]['DP']}\\n TEXT: {records[id]['AB']}\\n SCORE: {round(score,2)} \\n DOCUMENT-TITLE: {records[id]['TI']}\\n SOURCE: {records[id]['SO'].split(\"doi:\")}\" for id,score in documents]}\n",
    "\n"
   ]
  },
  {
   "cell_type": "code",
   "execution_count": 16,
   "metadata": {},
   "outputs": [
    {
     "data": {
      "text/plain": [
       "{'answer': [\"DOCUMENT-ID: 26172250\\n FULL-AUTHOR: ['Protzko, John', 'Aronson, Joshua', 'Blair, Clancy']\\n PUBLICATION-DATE: 2013 Jan\\n TEXT: Can interventions meaningfully increase intelligence? If so, how? The Database of Raising Intelligence is a continuously updated compendium of randomized controlled trials that were designed to increase intelligence. In this article, the authors examine nearly every available intervention involving children from birth to kindergarten, using meta-analytic procedures when more than 3 studies tested similar methods and reviewing interventions when too few were available for meta-analysis. This yielded 4 meta-analyses on the effects of dietary supplementation to pregnant mothers and neonates, early educational interventions, interactive reading, and sending a child to preschool. All 4 meta-analyses yielded significant results: Supplementing infants with long-chain polyunsaturated fatty acids, enrolling children in early educational interventions, reading to children in an interactive manner, and sending children to preschool all raise the intelligence of young children.\\n SCORE: 0.58 \\n DOCUMENT-TITLE: How to Make a Young Child Smarter: Evidence From the Database of Raising Intelligence.\\n SOURCE: Perspect Psychol Sci. 2013 Jan;8(1):25-40. doi: 10.1177/1745691612462585.\"]}"
      ]
     },
     "execution_count": 16,
     "metadata": {},
     "output_type": "execute_result"
    }
   ],
   "source": [
    "generate(\"How do I make my kids smarter?\")"
   ]
  }
 ],
 "metadata": {
  "kernelspec": {
   "display_name": "Python 3",
   "language": "python",
   "name": "python3"
  },
  "language_info": {
   "codemirror_mode": {
    "name": "ipython",
    "version": 3
   },
   "file_extension": ".py",
   "mimetype": "text/x-python",
   "name": "python",
   "nbconvert_exporter": "python",
   "pygments_lexer": "ipython3",
   "version": "3.11.5"
  }
 },
 "nbformat": 4,
 "nbformat_minor": 2
}
