{
 "cells": [
  {
   "cell_type": "markdown",
   "metadata": {},
   "source": [
    "# Approach Using Opensearch"
   ]
  },
  {
   "cell_type": "markdown",
   "metadata": {},
   "source": [
    "Gui hosted on [http://localhost:5601/app/home](http://localhost:5601/app/home)"
   ]
  },
  {
   "cell_type": "code",
   "execution_count": 7,
   "metadata": {},
   "outputs": [
    {
     "name": "stdout",
     "output_type": "stream",
     "text": [
      "Requirement already satisfied: opensearch-py in /home/l0gically/miniconda3/envs/HDHW/lib/python3.11/site-packages (2.4.2)\n",
      "Requirement already satisfied: urllib3>=1.26.18 in /home/l0gically/miniconda3/envs/HDHW/lib/python3.11/site-packages (from opensearch-py) (1.26.18)\n",
      "Requirement already satisfied: requests<3.0.0,>=2.4.0 in /home/l0gically/miniconda3/envs/HDHW/lib/python3.11/site-packages (from opensearch-py) (2.31.0)\n",
      "Requirement already satisfied: six in /home/l0gically/miniconda3/envs/HDHW/lib/python3.11/site-packages (from opensearch-py) (1.16.0)\n",
      "Requirement already satisfied: python-dateutil in /home/l0gically/miniconda3/envs/HDHW/lib/python3.11/site-packages (from opensearch-py) (2.8.2)\n",
      "Requirement already satisfied: certifi>=2022.12.07 in /home/l0gically/miniconda3/envs/HDHW/lib/python3.11/site-packages (from opensearch-py) (2023.7.22)\n",
      "Requirement already satisfied: charset-normalizer<4,>=2 in /home/l0gically/miniconda3/envs/HDHW/lib/python3.11/site-packages (from requests<3.0.0,>=2.4.0->opensearch-py) (2.0.4)\n",
      "Requirement already satisfied: idna<4,>=2.5 in /home/l0gically/miniconda3/envs/HDHW/lib/python3.11/site-packages (from requests<3.0.0,>=2.4.0->opensearch-py) (3.4)\n",
      "Note: you may need to restart the kernel to use updated packages.\n"
     ]
    }
   ],
   "source": [
    "%pip install opensearch-py"
   ]
  },
  {
   "cell_type": "code",
   "execution_count": 1,
   "metadata": {},
   "outputs": [],
   "source": [
    "import os\n",
    "import json\n",
    "from opensearchpy import OpenSearch\n",
    "import requests"
   ]
  },
  {
   "cell_type": "code",
   "execution_count": 2,
   "metadata": {},
   "outputs": [],
   "source": [
    "# https://opensearch.org/docs/latest/clients/python-low-level/\n",
    "\n",
    "host = 'localhost'\n",
    "port = 9200\n",
    "auth = ('admin', 'admin')\n",
    "\n",
    "\n",
    "# Create the client with SSL/TLS enabled, but hostname verification disabled.\n",
    "client = OpenSearch(\n",
    "    hosts = [{'host': host, 'port': port}],\n",
    "    http_compress = True, # enables gzip compression for request bodies\n",
    "    http_auth = auth,\n",
    "    use_ssl = True,\n",
    "    verify_certs = False,\n",
    "    ssl_assert_hostname = False,\n",
    "    ssl_show_warn = False,\n",
    ")"
   ]
  },
  {
   "cell_type": "markdown",
   "metadata": {},
   "source": [
    "## Creating an Index"
   ]
  },
  {
   "cell_type": "code",
   "execution_count": 123,
   "metadata": {},
   "outputs": [],
   "source": [
    "index_name = 'pub_med_index'\n",
    "index_body = {  \n",
    "    'settings': {\n",
    "    'index': {\n",
    "      'number_of_shards': 4\n",
    "    },\n",
    "      'mappings': {\n",
    "        # Your index mappings here\n",
    "    }\n",
    "  }\n",
    "}\n",
    "\n",
    "response = client.indices.create(index_name, body=index_body)"
   ]
  },
  {
   "cell_type": "code",
   "execution_count": 7,
   "metadata": {},
   "outputs": [],
   "source": [
    "pubmed_data_path = \"../../data/pubmed_data.json\"\n",
    "pubmed_data_preprocessed_path = \"../../data/pubmed_data_preprocessed.json\"\n",
    "\n",
    "if not os.path.exists(pubmed_data_preprocessed_path):\n",
    "  with open(pubmed_data_path, 'r') as f:\n",
    "    records = json.loads(f.read())\n",
    "     \n",
    "  records = records[\"PubmedArticle\"]\n",
    "  preprocessed_records = []\n",
    "  for idx, article in enumerate(records):\n",
    "      if (not \"Abstract\" in article[\"MedlineCitation\"][\"Article\"].keys()): continue\n",
    "      article = {\n",
    "          \"_id\": article[\"MedlineCitation\"][\"PMID\"],\n",
    "          \"title\": article[\"MedlineCitation\"][\"Article\"][\"ArticleTitle\"],\n",
    "          \"text\": \" \".join(article[\"MedlineCitation\"][\"Article\"][\"Abstract\"][\"AbstractText\"]) # some abstracts are split in an array\n",
    "      }\n",
    "      response\n",
    "      preprocessed_records.append(article)\n",
    "  with open(pubmed_data_preprocessed_path, 'w') as f:\n",
    "    f.write(json.dumps(preprocessed_records))\n",
    "else:\n",
    "    with open(pubmed_data_preprocessed_path, 'r') as f:\n",
    "        preprocessed_records = json.loads(f.read())\n",
    "     "
   ]
  },
  {
   "cell_type": "code",
   "execution_count": 8,
   "metadata": {},
   "outputs": [
    {
     "data": {
      "text/plain": [
       "[{'_id': '38085539',\n",
       "  'title': 'High Seebeck Coefficient Inorganic Ge<sub>15</sub>Ga<sub>10</sub>Te<sub>75</sub> Core/Polymer Cladding Fibers for Respiration and Body Temperature Monitoring.',\n",
       "  'text': 'Wearable thermal sensors based on thermoelectric (TE) materials with high sensitivity and temperature resolution are extensively used in medical diagnosis, human-machine interfaces, and advanced artificial intelligence. However, their development is greatly limited by the lack of materials with both a high Seebeck coefficient and superior anticrystallization ability. Here, a new inorganic amorphous TE material, Ge<sub>15</sub>Ga<sub>10</sub>Te<sub>75</sub>, with a high Seebeck coefficient of 1109 μV/K is reported. Owing to the large difference between the glass-transition temperature and initial crystallization temperature, Ge<sub>15</sub>Ga<sub>10</sub>Te<sub>75</sub> strongly inhibits crystallization during fiber fabrication by thermally codrawing a precast rod comprising a Ge<sub>15</sub>Ga<sub>10</sub>Te<sub>75</sub> core and PP polymer cladding. The temperature difference can be effectively transduced into electrical signals to achieve TE fiber thermal sensing with an accurate temperature resolution of 0.03 K and a fast response time of 4 s. It is important to note that after the 1.5 and 5.5 K temperatures changed repeatedly, the TE properties of the fiber demonstrated high stability. Based on the Seebeck effect and superior flexibility of the fibers, they can be integrated into a mask and wearable fabric for human respiration and body temperature monitoring. The superior thermal sensing performance of the TE fibers together with their natural flexibility and scalable fabrication endow them with promising applications in health-monitoring and intelligent medical systems.'},\n",
       " {'_id': '38085351',\n",
       "  'title': 'Neuro-fuzzy modelling of a continuous stirred tank bioreactor with ceramic membrane technology for treating petroleum refinery effluent: a case study from Assam, India.',\n",
       "  'text': 'A continuous stirred tank bioreactor (CSTB) with cell recycling combined with ceramic membrane technology and inoculated with Rhodococcus opacus PD630 was employed to treat petroleum refinery wastewater for simultaneous chemical oxygen demand (COD) removal and lipid production from the retentate obtained during wastewater treatment. In the present study, the COD removal efficiency (COD<sub>RE</sub>) (%) and lipid concentration (g/L) were predicted using two artificial intelligence models, i.e., an artificial neural network (ANN) and a neuro-fuzzy neural network (NF-NN) with a network topology of 6-25-2 being the best for NF-NN. The results revealed the superiority of NF-NN over ANN in terms of determination coefficient (R<sup>2</sup>), root mean square error (RMSE), and mean absolute percentage error (MAPE). Three learning algorithms were tested with NF-NN; among them, the Bayesian regularization backpropagation (BR-BP) outperformed others. The sensitivity analysis revealed that, if solid retention time and biomass concentrations were maintained between 35 and 75\\xa0h and 3.0\\xa0g/L and 3.5\\xa0g/L, respectively, high COD<sub>RE</sub> (93%) and lipid concentration (2.8\\xa0g/L) could be obtained consistently.'},\n",
       " {'_id': '38085285',\n",
       "  'title': '[Quality indicators artificial intelligence].',\n",
       "  'text': 'The ability of some artificial intelligence (AI) systems to autonomously evolve and the sometimes very limited possibilities to comprehend their decision-making processes present new challenges to our legal system. At a European level this has led to reform efforts, of which the proposal for a\\xa0European AI regulation promises to close regulatory gaps in existing product safety law through cross-sectoral AI-specific safety requirements. A\\xa0prerequisite, however, would be that the EU legislator does not only avoid duplications and contradictions with existing safety requirements but also refrains from imposing exaggerated and unattainable demands. If this were to be taken into consideration, the new safety requirements could also be used to specify the undefined standard of care in liability law. Nevertheless, challenges in the context of provability continue to remain unresolved, posing a\\xa0risk of rendering the legal protection efforts of the aggrieved party ineffective. It remains to be seen whether the EU legislator will address this need for reform with the recently proposed reform of product liability law by the Commission.'}]"
      ]
     },
     "execution_count": 8,
     "metadata": {},
     "output_type": "execute_result"
    }
   ],
   "source": [
    "[doc for doc in preprocessed_records[:3]]"
   ]
  },
  {
   "cell_type": "code",
   "execution_count": 128,
   "metadata": {},
   "outputs": [],
   "source": [
    "actions = [ \n",
    "    ({\"index\": {\"_index\": \"pub_med_index\", \"_id\":doc[\"_id\"] }},{\"title\": doc[\"title\"], \"text\": doc[\"text\"] })\n",
    "for doc in preprocessed_records[:2000] \n",
    "]"
   ]
  },
  {
   "cell_type": "code",
   "execution_count": 129,
   "metadata": {},
   "outputs": [],
   "source": [
    "request = '\\n'.join([f'{json.dumps(item, indent=None, separators=(\",\", \":\"))}' for tpl in actions for item in tpl])"
   ]
  },
  {
   "cell_type": "code",
   "execution_count": 131,
   "metadata": {},
   "outputs": [
    {
     "name": "stdout",
     "output_type": "stream",
     "text": [
      "Bulk request successful.\n"
     ]
    }
   ],
   "source": [
    "try:\n",
    "    response = client.bulk(body=request, refresh=True)\n",
    "    print(\"Bulk request successful.\")\n",
    "except Exception as e:\n",
    "    print(f\"Failed to perform bulk request. Error: {e}\")"
   ]
  }
 ],
 "metadata": {
  "kernelspec": {
   "display_name": "Python 3",
   "language": "python",
   "name": "python3"
  },
  "language_info": {
   "codemirror_mode": {
    "name": "ipython",
    "version": 3
   },
   "file_extension": ".py",
   "mimetype": "text/x-python",
   "name": "python",
   "nbconvert_exporter": "python",
   "pygments_lexer": "ipython3",
   "version": "3.11.5"
  }
 },
 "nbformat": 4,
 "nbformat_minor": 2
}
