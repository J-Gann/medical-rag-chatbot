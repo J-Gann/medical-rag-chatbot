{
 "cells": [
  {
   "cell_type": "code",
   "execution_count": 21,
   "id": "3395f6c9",
   "metadata": {},
   "outputs": [],
   "source": [
    "import torch\n",
    "#from pinecone import Pinecone\n",
    "#from sentence_transformers import SentenceTransformer\n",
    "from Bio import Medline\n",
    "import os\n",
    "import json\n",
    "from transformers import AutoTokenizer, AutoModel, BertForSequenceClassification, AutoModelForQuestionAnswering\n",
    "#import ollama\n",
    "#from fastapi import FastAPI\n",
    "#import uvicorn"
   ]
  },
  {
   "cell_type": "code",
   "execution_count": 75,
   "id": "d90da2a0",
   "metadata": {},
   "outputs": [
    {
     "data": {
      "text/plain": [
       "{'acknowledged': True}"
      ]
     },
     "execution_count": 75,
     "metadata": {},
     "output_type": "execute_result"
    }
   ],
   "source": [
    "from opensearchpy import OpenSearch\n",
    "\n",
    "host = 'localhost'\n",
    "port = 9200\n",
    "auth = ('admin', 'admin')\n",
    "\n",
    "\n",
    "# Create the client with SSL/TLS enabled, but hostname verification disabled.\n",
    "client = OpenSearch(\n",
    "    hosts = [{'host': host, 'port': port}],\n",
    "    http_compress = True, # enables gzip compression for request bodies\n",
    "    http_auth = auth,\n",
    "    use_ssl = True,\n",
    "    verify_certs = False,\n",
    "    ssl_assert_hostname = False,\n",
    "    ssl_show_warn = False,\n",
    ")\n",
    "\n",
    "index_name = 'pub_med_index'\n",
    "client.indices.delete(index=index_name)\n"
   ]
  },
  {
   "cell_type": "code",
   "execution_count": null,
   "id": "5979e761",
   "metadata": {},
   "outputs": [],
   "source": [
    "pubmed_data_path = \"/home/chris/University/NLP_project/pubmed_data.json\"\n",
    "pubmed_data_preprocessed_path = \"/home/paperspace/pubmed_data_preprocessed.json\"\n"
   ]
  },
  {
   "cell_type": "code",
   "execution_count": null,
   "id": "ab5aece0",
   "metadata": {},
   "outputs": [],
   "source": [
    "records=[]\n",
    "missed=0\n",
    "num=0\n",
    "with open(\"pubmed_data\") as stream:\n",
    "    for article in Medline.parse(stream):\n",
    "        if not \"PMID\" in article:\n",
    "            missed += 1\n",
    "            continue\n",
    "\n",
    "        if not \"TI\" in article:\n",
    "            missed += 1\n",
    "            continue\n",
    "\n",
    "        if not \"FAU\" in article:\n",
    "            missed += 1\n",
    "            continue\n",
    "\n",
    "        if not \"DP\" in article:\n",
    "            missed += 1\n",
    "            continue\n",
    "\n",
    "        if not \"AB\" in article:\n",
    "            missed += 1\n",
    "            continue\n",
    "        num+=1\n",
    "        records.append(article)\n",
    "\n",
    "with open(pubmed_data_preprocessed_path, 'w') as f:\n",
    "    f.write(json.dumps(records))\n",
    "print(num)"
   ]
  },
  {
   "cell_type": "markdown",
   "id": "32d026ab",
   "metadata": {},
   "source": [
    "## Embeddings"
   ]
  },
  {
   "cell_type": "code",
   "execution_count": null,
   "id": "537b73c3",
   "metadata": {},
   "outputs": [],
   "source": [
    "class PubMedDataset(Dataset):\n",
    "    def __init__(self, path):\n",
    "        with open(path, 'r') as f:\n",
    "          self.data = json.loads(f.read())\n",
    "\n",
    "    def __len__(self):\n",
    "        return len(self.data)\n",
    "\n",
    "    def __getitem__(self, idx):\n",
    "        sample = self.data[idx][\"text\"]\n",
    "        return sample"
   ]
  },
  {
   "cell_type": "code",
   "execution_count": null,
   "id": "48faab84",
   "metadata": {},
   "outputs": [],
   "source": [
    "tokenizer = AutoTokenizer.from_pretrained('sentence-transformers/all-mpnet-base-v2')\n",
    "model = AutoModel.from_pretrained('sentence-transformers/all-mpnet-base-v2').to(device)"
   ]
  },
  {
   "cell_type": "code",
   "execution_count": null,
   "id": "387e26a4",
   "metadata": {},
   "outputs": [],
   "source": [
    "dataset = PubMedDataset(pubmed_data_preprocessed_path)\n",
    "dataloader = DataLoader(dataset, batch_size=64, shuffle=False)"
   ]
  },
  {
   "cell_type": "code",
   "execution_count": null,
   "id": "8e2c3db0",
   "metadata": {},
   "outputs": [],
   "source": [
    "def mean_pooling(last_hidden_state, attention_mask):\n",
    "    input_mask_expanded = attention_mask.unsqueeze(-1).expand(last_hidden_state.size()).float()\n",
    "    return torch.sum(last_hidden_state * input_mask_expanded, 1) / torch.clamp(input_mask_expanded.sum(1), min=1e-9)"
   ]
  },
  {
   "cell_type": "code",
   "execution_count": null,
   "id": "1c7c907b",
   "metadata": {},
   "outputs": [],
   "source": [
    "embeddings = []\n",
    "with torch.no_grad():\n",
    "    for i, sample in enumerate(dataloader):\n",
    "        inputs = tokenizer(sample, return_tensors=\"pt\", padding=True, truncation=True).to(device)\n",
    "        out = model(**inputs)\n",
    "        pooled = mean_pooling(out.last_hidden_state, inputs[\"attention_mask\"]).to(\"cpu\")\n",
    "        embeddings.extend(pooled)\n",
    "embeddings_stacked = torch.stack(embeddings)"
   ]
  },
  {
   "cell_type": "code",
   "execution_count": null,
   "id": "46969c18",
   "metadata": {},
   "outputs": [],
   "source": [
    "torch.save(embeddings_stacked, '/home/paperspace/pubmed_data_embeddings.bin')"
   ]
  },
  {
   "cell_type": "code",
   "execution_count": 22,
   "id": "1d163271",
   "metadata": {},
   "outputs": [],
   "source": [
    "embeddings_stacked=torch.load('/home/paperspace/pubmed_data_embeddings.bin')"
   ]
  },
  {
   "cell_type": "markdown",
   "id": "79c0864d",
   "metadata": {},
   "source": [
    "## KNN"
   ]
  },
  {
   "cell_type": "code",
   "execution_count": 76,
   "id": "8a320c5b",
   "metadata": {},
   "outputs": [
    {
     "data": {
      "text/plain": [
       "{'acknowledged': True, 'shards_acknowledged': True, 'index': 'pub_med_index'}"
      ]
     },
     "execution_count": 76,
     "metadata": {},
     "output_type": "execute_result"
    }
   ],
   "source": [
    "# Define an index mapping with a custom analyzer\n",
    "index_mapping = {\n",
    "  \"settings\": {\n",
    "    \"index.knn\": True\n",
    "  },\n",
    "  \"mappings\": {\n",
    "    \"properties\": {\n",
    "      \"title\": {\n",
    "        \"type\": \"text\",\n",
    "        \"analyzer\": \"standard\"\n",
    "      },\n",
    "      \"TI\": {\n",
    "        \"type\": \"text\",\n",
    "        \"analyzer\": \"standard\"\n",
    "      },\n",
    "      \"AB\": {\n",
    "        \"type\": \"text\",\n",
    "        \"analyzer\": \"standard\"\n",
    "      },\n",
    "      \"vector\": {\n",
    "        \"type\": \"knn_vector\",\n",
    "        \"dimension\": len(embeddings_stacked[0])  \n",
    "      }\n",
    "    }\n",
    "  }\n",
    "}\n",
    "\n",
    "\n",
    "# Create the index with the custom mapping\n",
    "index_name = \"pub_med_index\"\n",
    "client.indices.create(index=index_name, body=index_mapping)"
   ]
  },
  {
   "cell_type": "code",
   "execution_count": 78,
   "id": "33226df5",
   "metadata": {},
   "outputs": [
    {
     "data": {
      "text/plain": [
       "\"'PMID': \\n'STAT': \\n'DRDT': \\n'CTDT':\\n'PB': \\n'DP': \\n'TI': \\n'BTI': \\n'AB': \\n'CI': \\n'FED': \\n'ED': \\n'FAU': \\n'AU': \\n'AD': \\n'LA': \\n'PT': \\n'PL':\\n'OTO': \\n'OT': \\n'EDAT': \\n'CRDT': \\n'AID':\""
      ]
     },
     "execution_count": 78,
     "metadata": {},
     "output_type": "execute_result"
    }
   ],
   "source": [
    "actions = [ \n",
    "    ({\"index\": {\"_index\": \"pub_med_index\",\n",
    "                \"_id\":doc[\"PMID\"]}},\n",
    "     {\"TI\":doc[\"TI\"],\n",
    "      \"AB\":doc[\"AB\"],\n",
    "      \"vector\":embeddings_stacked[num].tolist()\n",
    "    }\n",
    "    )\n",
    "    for num,doc in enumerate(records[0:10])\n",
    "]\n",
    "\n",
    "\"\"\"'PMID': \n",
    "'STAT': \n",
    "'DRDT': \n",
    "'CTDT':\n",
    "'PB': \n",
    "'DP': \n",
    "'TI': \n",
    "'BTI': \n",
    "'AB': \n",
    "'CI': \n",
    "'FED': \n",
    "'ED': \n",
    "'FAU': \n",
    "'AU': \n",
    "'AD': \n",
    "'LA': \n",
    "'PT': \n",
    "'PL':\n",
    "'OTO': \n",
    "'OT': \n",
    "'EDAT': \n",
    "'CRDT': \n",
    "'AID':\"\"\""
   ]
  },
  {
   "cell_type": "code",
   "execution_count": 79,
   "id": "06179f25",
   "metadata": {},
   "outputs": [],
   "source": [
    "request = '\\n'.join([f'{json.dumps(item, indent=None, separators=(\",\", \":\"))}' for tpl in actions for item in tpl])"
   ]
  },
  {
   "cell_type": "code",
   "execution_count": 80,
   "id": "4c8ddfa0",
   "metadata": {},
   "outputs": [
    {
     "name": "stdout",
     "output_type": "stream",
     "text": [
      "Bulk request successful.\n"
     ]
    }
   ],
   "source": [
    "try:\n",
    "    response = client.bulk(body=request, refresh=True)\n",
    "    print(\"Bulk request successful.\")\n",
    "except Exception as e:\n",
    "    print(f\"Failed to perform bulk request. Error: {e}\")"
   ]
  },
  {
   "cell_type": "code",
   "execution_count": 40,
   "id": "21600161",
   "metadata": {},
   "outputs": [
    {
     "data": {
      "text/plain": [
       "{'PMID': '20301331',\n",
       " 'STAT': 'Publisher',\n",
       " 'DRDT': ['20230511'],\n",
       " 'CTDT': ['19981012'],\n",
       " 'PB': ['University of Washington, Seattle'],\n",
       " 'DP': '1993',\n",
       " 'TI': 'Achondroplasia.',\n",
       " 'BTI': ['GeneReviews((R))'],\n",
       " 'AB': \"CLINICAL CHARACTERISTICS: Achondroplasia is the most common cause of disproportionate short stature. Affected individuals have rhizomelic shortening of the limbs, macrocephaly, and characteristic facial features with frontal bossing and midface retrusion. In infancy, hypotonia is typical, and acquisition of developmental motor milestones is often both aberrant in pattern and delayed. Intelligence and life span are usually near normal, although craniocervical junction compression increases the risk of death in infancy. Additional complications include obstructive sleep apnea, middle ear dysfunction, kyphosis, and spinal stenosis. DIAGNOSIS/TESTING: Achondroplasia can be diagnosed by characteristic clinical and radiographic findings in most affected individuals. In individuals in whom there is diagnostic uncertainty or who have atypical findings, identification of a heterozygous pathogenic variant in FGFR3 can establish the diagnosis. MANAGEMENT: Treatment of manifestations: Vosoritide, a C-type natriuretic peptide (CNP) analog, was recently approved to enhance height in individuals with achondroplasia from age five years until growth plates close. Ventriculoperitoneal shunt may be required for increased intracranial pressure; suboccipital decompression as indicated for signs and symptoms of craniocervical junction compression; adenotonsillectomy, positive airway pressure, and, rarely, tracheostomy to correct obstructive sleep apnea; pressure-equalizing tubes for middle ear dysfunction; monitor and treat obesity; evaluation and treatment by an orthopedist if progressive bowing of the legs arises; spinal surgery may be needed for severe, persistent kyphosis; surgery to correct spinal stenosis in symptomatic adults; modification in the school and work setting to optimize function; educational support in socialization and school adjustment. Surveillance: Monitor height, weight, and head circumference in childhood using growth curves standardized for achondroplasia; evaluation of developmental milestones throughout infancy and childhood using achondroplasia-specific standards; baseline neuroimaging of craniocervical junction and brain in infancy; neurologic examinations monitoring for signs of cervical myelopathy; monitor for signs and symptoms of sleep apnea; hearing evaluation as a newborn and tympanometric and behavioral audiometric evaluation by age approximately one year; monitor for middle ear problems or evidence of hearing loss in childhood; clinical assessment for kyphosis and bowed legs, with radiographic evaluation and referral to an orthopedist if necessary; in adults, clinical history and neurologic examination to screen for spinal stenosis with development of any new signs or symptoms or at least every three to five years; discuss social adjustment at each visit with primary care provider. Agents/circumstances to avoid: Rear-facing car seats should be used as long as possible to avoid injury from motor vehicle accident. Avoid soft-back infant seats and front carriers without a firm back. Avoid activities in which there is risk of injury to the craniocervical junction, such as collision sports; use of a trampoline; diving from diving boards; vaulting in gymnastics; and hanging upside down from the knees or feet on playground equipment (due to risk of falling onto the head or neck). Pregnancy management: Pregnant women with achondroplasia must undergo cesarean section delivery because of small pelvic size. GENETIC COUNSELING: Achondroplasia is inherited in an autosomal dominant manner. Around 80% of individuals with achondroplasia have parents with average stature and have achondroplasia as the result of a de novo pathogenic variant. Such parents have a very low risk of having another child with achondroplasia. An individual with achondroplasia who has a reproductive partner with average stature is at 50% risk in each pregnancy of having a child with achondroplasia. When both parents have achondroplasia, the risk to their offspring of having average stature is 25%; of having achondroplasia, 50%; and of having homozygous achondroplasia (a lethal condition), 25%. If the proband and the proband's reproductive partner are affected with different dominantly inherited skeletal dysplasias, genetic counseling becomes more complicated because of the risk of inheriting two dominant skeletal dysplasias. If the FGFR3 pathogenic variant has been identified in the affected parent or parents, prenatal testing for a pregnancy at increased risk for achondroplasia is possible.\",\n",
       " 'CI': ['Copyright (c) 1993-2024, University of Washington, Seattle. GeneReviews is a',\n",
       "  'registered trademark of the University of Washington, Seattle. All rights',\n",
       "  'reserved.'],\n",
       " 'FED': ['Adam, Margaret P',\n",
       "  'Feldman, Jerry',\n",
       "  'Mirzaa, Ghayda M',\n",
       "  'Pagon, Roberta A',\n",
       "  'Wallace, Stephanie E',\n",
       "  'Bean, Lora JH',\n",
       "  'Gripp, Karen W',\n",
       "  'Amemiya, Anne'],\n",
       " 'ED': ['Adam MP',\n",
       "  'Feldman J',\n",
       "  'Mirzaa GM',\n",
       "  'Pagon RA',\n",
       "  'Wallace SE',\n",
       "  'Bean LJH',\n",
       "  'Gripp KW',\n",
       "  'Amemiya A'],\n",
       " 'FAU': ['Legare, Janet M'],\n",
       " 'AU': ['Legare JM'],\n",
       " 'AD': ['School of Medicine and Public Health, University of Wisconsin, Madison, Wisconsin'],\n",
       " 'LA': ['eng'],\n",
       " 'PT': ['Review', 'Book Chapter'],\n",
       " 'PL': 'Seattle (WA)',\n",
       " 'OTO': ['NLM'],\n",
       " 'OT': ['FGFR3-Related Achondroplasia',\n",
       "  'FGFR3-Related Achondroplasia',\n",
       "  'Fibroblast growth factor receptor 3',\n",
       "  'FGFR3',\n",
       "  'Achondroplasia'],\n",
       " 'EDAT': '2023/05/11 00:00',\n",
       " 'CRDT': ['2023/05/11 00:00'],\n",
       " 'AID': ['NBK1152 [bookaccession]']}"
      ]
     },
     "execution_count": 40,
     "metadata": {},
     "output_type": "execute_result"
    }
   ],
   "source": [
    "records['20301331']"
   ]
  },
  {
   "cell_type": "code",
   "execution_count": 81,
   "id": "c3d3f474",
   "metadata": {},
   "outputs": [
    {
     "name": "stderr",
     "output_type": "stream",
     "text": [
      "/home/chris/anaconda3/lib/python3.9/site-packages/torch/cuda/__init__.py:611: UserWarning: Can't initialize NVML\n",
      "  warnings.warn(\"Can't initialize NVML\")\n"
     ]
    },
    {
     "name": "stdout",
     "output_type": "stream",
     "text": [
      "768\n",
      "{'took': 50, 'timed_out': False, '_shards': {'total': 1, 'successful': 1, 'skipped': 0, 'failed': 0}, 'hits': {'total': {'value': 1, 'relation': 'eq'}, 'max_score': 0.07615581, 'hits': [{'_index': 'pub_med_index', '_id': '20301451', '_score': 0.07615581, '_source': {}}]}}\n"
     ]
    }
   ],
   "source": [
    "import torch\n",
    "from pinecone import Pinecone\n",
    "from sentence_transformers import SentenceTransformer\n",
    "from Bio import Medline\n",
    "import ollama\n",
    "from fastapi import FastAPI\n",
    "import uvicorn\n",
    "\n",
    "from opensearchpy import OpenSearch\n",
    "from transformers import AutoTokenizer, AutoModel, BertForSequenceClassification, AutoModelForQuestionAnswering\n",
    "\n",
    "\n",
    "\n",
    "if torch.cuda.is_available():\n",
    "  device = \"cuda:0\"\n",
    "else:\n",
    "  device = \"cpu\"\n",
    "device\n",
    "\n",
    "records = {}\n",
    "missed = 0\n",
    "\n",
    "with open(\"pubmed_data\") as stream:    \n",
    "    for article in Medline.parse(stream):\n",
    "\n",
    "        if not \"PMID\" in article:\n",
    "            missed += 1\n",
    "            continue\n",
    "\n",
    "        if not \"TI\" in article:\n",
    "            missed += 1\n",
    "            continue\n",
    "\n",
    "        if not \"FAU\" in article:\n",
    "            missed += 1\n",
    "            continue\n",
    "\n",
    "        if not \"DP\" in article:\n",
    "            missed += 1\n",
    "            continue\n",
    "\n",
    "        if not \"AB\" in article:\n",
    "            missed += 1\n",
    "            continue\n",
    "        \n",
    "        records[article[\"PMID\"]] = article\n",
    "\n",
    "#model = SentenceTransformer(\"sentence-transformers/all-mpnet-base-v2\")\n",
    "tokenizer = AutoTokenizer.from_pretrained('sentence-transformers/all-mpnet-base-v2')\n",
    "model = AutoModel.from_pretrained('sentence-transformers/all-mpnet-base-v2').to(device)\n",
    "\n",
    "# why not take cls token?\n",
    "def mean_pooling(last_hidden_state, attention_mask):\n",
    "    input_mask_expanded = attention_mask.unsqueeze(-1).expand(last_hidden_state.size()).float()\n",
    "    return torch.sum(last_hidden_state * input_mask_expanded, 1) / torch.clamp(input_mask_expanded.sum(1), min=1e-9)\n",
    "\n",
    "# https://opensearch.org/docs/latest/clients/python-low-level/\n",
    "\n",
    "host = 'localhost'\n",
    "port = 9200\n",
    "auth = ('admin', 'admin')\n",
    "\n",
    "# Create the client with SSL/TLS enabled, but hostname verification disabled.\n",
    "client = OpenSearch(\n",
    "    hosts = [{'host': host, 'port': port}],\n",
    "    http_compress = True, # enables gzip compression for request bodies\n",
    "    http_auth = auth,\n",
    "    use_ssl = True,\n",
    "    verify_certs = False,\n",
    "    ssl_assert_hostname = False,\n",
    "    ssl_show_warn = False,\n",
    ")\n",
    "\n",
    "index_name = 'pub_med_index'\n",
    "\n",
    "def retrieve_documents(question):\n",
    "    \n",
    "    inputs = tokenizer(question, return_tensors=\"pt\", padding=True, truncation=True).to(device)\n",
    "    query_outputs = mean_pooling(model(**inputs).last_hidden_state, inputs[\"attention_mask\"]).to(\"cpu\")\n",
    "    print(len(query_outputs[0].tolist()))\n",
    "\n",
    "    # Define the KNN search query\n",
    "    knn_query = {\n",
    "        \"size\": 1,\n",
    "        \"_source\": [\"title\", \"text\"],\n",
    "        \"query\": {\n",
    "            \"knn\": {\n",
    "                \"vector\": {\n",
    "                    \"vector\": query_outputs[0].tolist(),\n",
    "                    \"k\": 1\n",
    "                }\n",
    "            }\n",
    "        }\n",
    "    }\n",
    "\n",
    "    # Perform the KNN search\n",
    "    response = client.search(index=index_name, body=knn_query)\n",
    "    \n",
    "    print(response)\n",
    "    \n",
    "    return [(res['_id'], res['_score']) for res in response['hits']['hits'][:]]\n",
    "    \n",
    "\n",
    "def generate(question: str):\n",
    "    documents = retrieve_documents(question)\n",
    "    return {\"answer\": [f\"DOCUMENT-ID: {records[id]['PMID']}\\n FULL-AUTHOR: {records[id]['FAU']}\\n PUBLICATION-DATE: {records[id]['DP']}\\n TEXT: {records[id]['AB']}\\n SCORE: {round(score,2)} \\n DOCUMENT-TITLE: {records[id]['TI']}\" for id,score in documents]}\n",
    "\n",
    "\n",
    "answer = generate(\"Why is alcohol bad?\")"
   ]
  },
  {
   "cell_type": "code",
   "execution_count": 82,
   "id": "37cdab22",
   "metadata": {},
   "outputs": [
    {
     "data": {
      "text/plain": [
       "{'answer': [\"DOCUMENT-ID: 20301451\\n FULL-AUTHOR: ['Scarpa, Maurizio']\\n PUBLICATION-DATE: 1993\\n TEXT: CLINICAL CHARACTERISTICS: Mucopolysaccharidosis type II (MPS II; also known as Hunter syndrome) is an X-linked multisystem disorder characterized by glycosaminoglycan (GAG) accumulation. The vast majority of affected individuals are male; on rare occasion heterozygous females manifest findings. Age of onset, disease severity, and rate of progression vary significantly among affected males. In those with early progressive disease, CNS involvement (manifest primarily by progressive cognitive deterioration), progressive airway disease, and cardiac disease usually result in death in the first or second decade of life. In those with slowly progressive disease, the CNS is not (or is minimally) affected, although the effect of GAG accumulation on other organ systems may be early progressive to the same degree as in those who have progressive cognitive decline. Survival into the early adult years with normal intelligence is common in the slowly progressing form of the disease. Additional findings in both forms of MPS II include: short stature; macrocephaly with or without communicating hydrocephalus; macroglossia; hoarse voice; conductive and sensorineural hearing loss; hepatosplenomegaly; dysostosis multiplex; spinal stenosis; and carpal tunnel syndrome. DIAGNOSIS/TESTING: The diagnosis of MPS II is established in a male proband by identification of deficient iduronate 2-sulfatase (I2S) enzyme activity in white cells, fibroblasts, or plasma in the presence of normal activity of at least one other sulfatase. Detection of a hemizygous pathogenic variant in IDS confirms the diagnosis in a male proband with an unusual phenotype or a phenotype that does not match the results of GAG testing. The diagnosis of MPS II is usually established in a female proband with suggestive clinical features by identification of a heterozygous IDS pathogenic variant on molecular genetic testing. MANAGEMENT: Treatment of manifestations: Interventions commonly include: developmental, occupational, and physical therapy; shunting for hydrocephalus; tonsillectomy and adenoidectomy; positive pressure ventilation (CPAP or tracheostomy); carpal tunnel release; cardiac valve replacement; inguinal hernia repair; hip replacement. Prevention of primary manifestations: Weekly enzyme replacement therapy (ERT) with infusions of idursulfase (Elaprase((R))), a recombinant form of human iduronate 2-sulfatase, is approved to treat somatic manifestations and prolong survival. Pretreatment with anti-inflammatory drugs or antihistamines may be needed for mild or moderate infusion reactions. Hematopoietic stem cell transplantation (HSCT) (using umbilical cord blood or bone marrow) could provide sufficient enzyme activity to slow or stop the progression of the disease; however, no controlled clinical studies have been conducted in MPS II. Prevention of secondary complications: Anesthesia is best administered in centers familiar with the potential complications in persons with MPS II. Surveillance: Depends on organ system and disease severity and usually includes annual: cardiology evaluation and echocardiogram; pulmonary evaluation including pulmonary function testing; audiogram; ophthalmology examination; developmental assessment; neurologic examination. Additional studies may include: sleep study for obstructive apnea; nerve conduction velocity to assess for carpal tunnel syndrome; head/neck MRI to document ventricular size and cervicomedullary narrowing; opening pressure on lumbar puncture; and orthopedic evaluation to monitor hip disease. Evaluation of relatives at risk: While clinical experience suggests that early diagnosis of at-risk males allows initiation of ERT before the onset of irreversible changes and often before significant disease progression, it is unclear at present whether the potential benefits of early initiation of ERT justify early diagnosis by either newborn screening or testing of at-risk male relatives. GENETIC COUNSELING: MPS II is inherited in an X-linked manner. The risk to sibs depends on the genetic status of the mother. If the mother of the proband has the pathogenic variant, the chance of transmitting it in each pregnancy is 50%. Males who inherit the pathogenic variant will be affected; females who inherit the pathogenic variant will be carriers. Germline mosaicism has been observed. Affected males pass the pathogenic variant to all of their daughters and none of their sons. Carrier testing for at-risk female relatives and prenatal testing for pregnancies at increased risk are possible if the pathogenic variant in the family is known.\\n SCORE: 0.08 \\n DOCUMENT-TITLE: Mucopolysaccharidosis Type II.\"]}"
      ]
     },
     "execution_count": 82,
     "metadata": {},
     "output_type": "execute_result"
    }
   ],
   "source": [
    "answer"
   ]
  }
 ],
 "metadata": {
  "kernelspec": {
   "display_name": "npl_env",
   "language": "python",
   "name": "npl_env"
  },
  "language_info": {
   "codemirror_mode": {
    "name": "ipython",
    "version": 3
   },
   "file_extension": ".py",
   "mimetype": "text/x-python",
   "name": "python",
   "nbconvert_exporter": "python",
   "pygments_lexer": "ipython3",
   "version": "3.9.18"
  }
 },
 "nbformat": 4,
 "nbformat_minor": 5
}
